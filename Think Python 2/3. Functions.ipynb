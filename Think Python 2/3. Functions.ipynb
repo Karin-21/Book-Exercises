{
 "cells": [
  {
   "cell_type": "markdown",
   "metadata": {},
   "source": [
    "# Chapter 3: Functions\n"
   ]
  },
  {
   "cell_type": "markdown",
   "metadata": {},
   "source": [
    "**Exercise 3.1.** Write a finction named *right_justify* that takes a string named s as a parameter an prints the string with enough leading spaces so that the last letter of the string is in column 70 of the display. "
   ]
  },
  {
   "cell_type": "code",
   "execution_count": 4,
   "metadata": {},
   "outputs": [
    {
     "name": "stdout",
     "output_type": "stream",
     "text": [
      "                                                             functions\n"
     ]
    }
   ],
   "source": [
    "def right_justify(s):\n",
    "    #We calculate the length of the string.\n",
    "    l = len(s)\n",
    "    #The number of empty spaces is given by n\n",
    "    n = 70-l\n",
    "    print(n*\" \" + s)\n",
    "    \n",
    "right_justify(\"functions\")"
   ]
  },
  {
   "cell_type": "markdown",
   "metadata": {},
   "source": [
    "**Exercise 3.2.** A function object is a value you can assign to a variable or pass as an argument. For example, do_twice is a function that takes a function object as an argument and calls it twice:\n",
    "<br>\n",
    "def do_twice(f):\n",
    "<br>\n",
    "&nbsp; &nbsp; &nbsp; &nbsp;f()\n",
    "<br>\n",
    "&nbsp; &nbsp; &nbsp; &nbsp;f()\n",
    "<br>\n",
    "Here’s an example that uses do_twice to call a function named print_spam twice.\n",
    "<br>\n",
    "def print_spam():\n",
    "<br>\n",
    "&nbsp; &nbsp; &nbsp; &nbsp;print('spam')\n",
    "<br>\n",
    "<br>\n",
    "do_twice(print_spam)"
   ]
  },
  {
   "cell_type": "code",
   "execution_count": 5,
   "metadata": {},
   "outputs": [
    {
     "name": "stdout",
     "output_type": "stream",
     "text": [
      "spam\n",
      "spam\n"
     ]
    }
   ],
   "source": [
    "\"\"\"1. Type this example into a script and test it.\"\"\"\n",
    "def do_twice(f):\n",
    "    f()\n",
    "    f()\n",
    "    \n",
    "def print_spam():\n",
    "    print(\"spam\")\n",
    "    \n",
    "do_twice(print_spam)"
   ]
  },
  {
   "cell_type": "code",
   "execution_count": 6,
   "metadata": {},
   "outputs": [
    {
     "name": "stdout",
     "output_type": "stream",
     "text": [
      "spam\n",
      "spam\n"
     ]
    }
   ],
   "source": [
    "\"\"\"2. Modify do_twice so that it takes two arguments, a function object and a value,\n",
    "      and calls the function twice, passing the value as an argument.\"\"\"\n",
    "def do_twice(f, a):\n",
    "    f(a)\n",
    "    f(a)\n",
    "    \n",
    "do_twice(print, \"spam\")"
   ]
  },
  {
   "cell_type": "code",
   "execution_count": 7,
   "metadata": {},
   "outputs": [],
   "source": [
    "\"\"\"3. Copy tge defubutuib if orubt:twice from earlier in this chapter to your script.\"\"\"\n",
    "def print_twice(bruce):\n",
    "    print(bruce)\n",
    "    print(bruce)"
   ]
  },
  {
   "cell_type": "code",
   "execution_count": 8,
   "metadata": {},
   "outputs": [
    {
     "name": "stdout",
     "output_type": "stream",
     "text": [
      "spam\n",
      "spam\n",
      "spam\n",
      "spam\n"
     ]
    }
   ],
   "source": [
    "\"\"\"4. Use the modified version of do_twice to call print_twice, \n",
    "      passing 'spam' as an argument.\"\"\"\n",
    "do_twice(print_twice, \"spam\")"
   ]
  },
  {
   "cell_type": "code",
   "execution_count": 13,
   "metadata": {},
   "outputs": [
    {
     "name": "stdout",
     "output_type": "stream",
     "text": [
      "4 spam\n",
      "4 spam\n",
      "4 spam\n",
      "4 spam\n"
     ]
    }
   ],
   "source": [
    "\"\"\"5. Define a new function called do_four that takes a function object and a value and valls the function four time, passing tthe value as a parameter.\n",
    "      There should be only two statements in the body of this function,  not four.\"\"\"\n",
    "\n",
    "def print_four(b, g = print_twice):\n",
    "    g(b)\n",
    "    g(b)\n",
    "    \n",
    "print_four(\"4 spam\")"
   ]
  },
  {
   "cell_type": "markdown",
   "metadata": {},
   "source": [
    "**Exercise 3.3.** Write a function that draws a grid like the following:\n"
   ]
  },
  {
   "cell_type": "code",
   "execution_count": 12,
   "metadata": {},
   "outputs": [
    {
     "name": "stdout",
     "output_type": "stream",
     "text": [
      "+ - - - - + - - - - +\n",
      "|         |         |\n"
     ]
    }
   ],
   "source": [
    "\"\"\"First I define the two tipes of rows I need.\"\"\"\n",
    "def row_one():\n",
    "    print(\"+\", \"-\", \"-\", \"-\", \"-\", \"+\", \"-\", \"-\", \"-\", \"-\", \"+\")\n",
    "    \n",
    "def row_two():\n",
    "    print(\"|\",\"       \", \"|\",\"       \", \"|\")\n",
    "    \n",
    "row_one()\n",
    "row_two()"
   ]
  },
  {
   "cell_type": "code",
   "execution_count": 15,
   "metadata": {},
   "outputs": [
    {
     "name": "stdout",
     "output_type": "stream",
     "text": [
      "+ - - - - + - - - - +\n",
      "|         |         |\n",
      "|         |         |\n",
      "|         |         |\n",
      "|         |         |\n",
      "+ - - - - + - - - - +\n",
      "|         |         |\n",
      "|         |         |\n",
      "|         |         |\n",
      "|         |         |\n",
      "+ - - - - + - - - - +\n"
     ]
    }
   ],
   "source": [
    "\"\"\"Now I define a new function that makes the square.\"\"\"\n",
    "def square():\n",
    "    row_one()\n",
    "    row_two()\n",
    "    row_two()\n",
    "    row_two()\n",
    "    row_two()\n",
    "    row_one()\n",
    "    row_two()\n",
    "    row_two()\n",
    "    row_two()\n",
    "    row_two()\n",
    "    row_one()\n",
    "    \n",
    "square()\n",
    "\n",
    "\"\"\"Note: this code can shortened.\"\"\"\n",
    "    "
   ]
  },
  {
   "cell_type": "code",
   "execution_count": null,
   "metadata": {},
   "outputs": [],
   "source": []
  }
 ],
 "metadata": {
  "kernelspec": {
   "display_name": "Python 3",
   "language": "python",
   "name": "python3"
  },
  "language_info": {
   "codemirror_mode": {
    "name": "ipython",
    "version": 3
   },
   "file_extension": ".py",
   "mimetype": "text/x-python",
   "name": "python",
   "nbconvert_exporter": "python",
   "pygments_lexer": "ipython3",
   "version": "3.8.5"
  }
 },
 "nbformat": 4,
 "nbformat_minor": 4
}

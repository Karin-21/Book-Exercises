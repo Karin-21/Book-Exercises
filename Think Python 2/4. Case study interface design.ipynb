{
 "cells": [
  {
   "cell_type": "markdown",
   "metadata": {},
   "source": [
    "## Chapter 4\n",
    "\n",
    "# Case Study: Interface Design\n"
   ]
  },
  {
   "cell_type": "markdown",
   "metadata": {},
   "source": [
    "### 4.3 Exercises\n",
    "\n",
    "The following is a series of exercises using TurtleWorld. They are meant to be fun, but they have a point, too. While you are working on them, think about what the point is."
   ]
  },
  {
   "cell_type": "markdown",
   "metadata": {},
   "source": [
    "### In this secction if there is any error, please close the turtle window and run again, every finction works."
   ]
  },
  {
   "cell_type": "markdown",
   "metadata": {},
   "source": [
    "**1.** Write a function called square that takes a parameter named t, which is a turtle. It should use the turtle to draw a square.\n",
    "<br>\n",
    "Write a function call that passes bob as an argument to square, and then run the program again."
   ]
  },
  {
   "cell_type": "code",
   "execution_count": 6,
   "metadata": {},
   "outputs": [],
   "source": [
    "# First, we define the \"square\" function.\n",
    "\n",
    "def square(t):\n",
    "    for i in range(4):\n",
    "        t.fd(100)\n",
    "        t.lt(90)\n",
    "        \n",
    "        \n",
    "# Now we import turtle as bob.\n",
    "\n",
    "import turtle\n",
    "bob = turtle.Turtle()\n",
    "\n",
    "\n",
    "# Finally we call the function square with argument bob.\n",
    "\n",
    "square(bob)\n",
    "\n",
    "\n",
    "# We finish the mainloop of turtle.\n",
    "turtle.done()\n"
   ]
  },
  {
   "cell_type": "markdown",
   "metadata": {},
   "source": [
    "**2.** Add another parameter named length to square. Modify the body so length of the sides is length, and then modify the function call to provide a second argument. Run the program again. Test your program with a range of values for length."
   ]
  },
  {
   "cell_type": "code",
   "execution_count": 8,
   "metadata": {},
   "outputs": [
    {
     "data": {
      "text/plain": [
       "'In the following blocks we test the function for three diffrent values.'"
      ]
     },
     "execution_count": 8,
     "metadata": {},
     "output_type": "execute_result"
    }
   ],
   "source": [
    "# First we add the new parameter \"length\".\n",
    "\n",
    "def square(t, length):\n",
    "    for i in range(4):\n",
    "        t.fd(length)\n",
    "        t.lt(90)\n",
    "        \n",
    "\"\"\"In the following blocks we test the function for three diffrent values.\"\"\""
   ]
  },
  {
   "cell_type": "code",
   "execution_count": 12,
   "metadata": {},
   "outputs": [],
   "source": [
    "import turtle\n",
    "bob = turtle.Turtle()\n",
    "\n",
    "square(bob, 50)\n",
    "turtle.done()"
   ]
  },
  {
   "cell_type": "code",
   "execution_count": 22,
   "metadata": {},
   "outputs": [],
   "source": [
    "import turtle\n",
    "bob = turtle.Turtle()\n",
    "\n",
    "square(bob, 100)\n",
    "turtle.done()"
   ]
  },
  {
   "cell_type": "code",
   "execution_count": 20,
   "metadata": {},
   "outputs": [],
   "source": [
    "import turtle\n",
    "bob = turtle.Turtle()\n",
    "\n",
    "square(bob, 200)\n",
    "turtle.done()"
   ]
  },
  {
   "cell_type": "markdown",
   "metadata": {},
   "source": [
    "**3.** Make a copy of square and change the name to polygon. Add another parameter named n and modify the body so it draws an n-sided regular polygon.\n",
    "<br>\n",
    "Hint: The exterior angles of an n-sided regular polygon are 360/n degrees."
   ]
  },
  {
   "cell_type": "code",
   "execution_count": 23,
   "metadata": {},
   "outputs": [],
   "source": [
    "# I modified the function so it imports turtle by its own.\n",
    "\n",
    "def polygon(length, n):\n",
    "    import turtle\n",
    "    tur = turtle.Turtle()\n",
    "    angle = (360/n)\n",
    "    for i in range(n):\n",
    "        tur.fd(length)\n",
    "        tur.lt(angle)\n",
    "    turtle.done()"
   ]
  },
  {
   "cell_type": "code",
   "execution_count": 25,
   "metadata": {},
   "outputs": [],
   "source": [
    "polygon(100,6)"
   ]
  },
  {
   "cell_type": "markdown",
   "metadata": {},
   "source": [
    "**4.** Write a function called circle that takes a turtle t and a raduis r as parameter that draws an approximate circle by calling polygonwith appropiate length and number of sides. Test yoour function with a range of values of r.\n",
    "<br>\n",
    "Hint: Figure out the cirumference of the circle and make sure that length * n = circumference."
   ]
  },
  {
   "cell_type": "code",
   "execution_count": 26,
   "metadata": {},
   "outputs": [],
   "source": [
    "def circle(r):\n",
    "    \n",
    "    # With 50 segments, the circumference looks very smooth.\n",
    "    n = 50\n",
    "    \n",
    "    # We need pi to make calculations.\n",
    "    from math import pi\n",
    "    \n",
    "    circumference = 2*pi*r\n",
    "    \n",
    "    # We solve length from the hint.\n",
    "    length = int(circumference/n)\n",
    "    # We use the int funnction for there is no half pixel.\n",
    "    \n",
    "    polygon(length, n)"
   ]
  },
  {
   "cell_type": "code",
   "execution_count": 28,
   "metadata": {},
   "outputs": [],
   "source": [
    "circle(200)"
   ]
  },
  {
   "cell_type": "markdown",
   "metadata": {},
   "source": [
    "**5.** Make a more general version of circle called arc that takes an additional parameter angle, wich determines what fraction of a circle to draw, angle is in units of degrees, so when angle = 360, arc should draw a complete circle."
   ]
  },
  {
   "cell_type": "code",
   "execution_count": 1,
   "metadata": {},
   "outputs": [],
   "source": [
    "# I include an extra argument \"segments\" to control the smoothnes of the arc\n",
    "def arc(r, angle, segments = 50):\n",
    "    #first we import our libreries\n",
    "    import turtle\n",
    "    from math import pi\n",
    "    \n",
    "    # Now we calculate te circumference length\n",
    "    circumference = 2*pi*r\n",
    "    \n",
    "    # Here we have the angle between segments\n",
    "    alpha = 360/segments\n",
    "    \n",
    "    # Length of the segments\n",
    "    length = int(circumference/360)\n",
    "    \n",
    "    # Now we print or arc\n",
    "    turt = turtle.Turtle()\n",
    "    x = 0 # This is a variable that let us stop the printing when we have the arc that we want.\n",
    "    while x < angle:\n",
    "        turt.fd(length)\n",
    "        turt.lt(alpha)\n",
    "        x = x + alpha\n",
    "    turtle.done()\n",
    "        "
   ]
  },
  {
   "cell_type": "code",
   "execution_count": 9,
   "metadata": {
    "scrolled": false
   },
   "outputs": [],
   "source": [
    "arc(1000, 90)"
   ]
  },
  {
   "cell_type": "code",
   "execution_count": null,
   "metadata": {},
   "outputs": [],
   "source": []
  }
 ],
 "metadata": {
  "kernelspec": {
   "display_name": "Python 3",
   "language": "python",
   "name": "python3"
  },
  "language_info": {
   "codemirror_mode": {
    "name": "ipython",
    "version": 3
   },
   "file_extension": ".py",
   "mimetype": "text/x-python",
   "name": "python",
   "nbconvert_exporter": "python",
   "pygments_lexer": "ipython3",
   "version": "3.8.5"
  }
 },
 "nbformat": 4,
 "nbformat_minor": 4
}

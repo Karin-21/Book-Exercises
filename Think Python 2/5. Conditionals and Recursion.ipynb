{
 "cells": [
  {
   "cell_type": "markdown",
   "metadata": {},
   "source": [
    "## Chapter 5\n",
    "\n",
    "# Conditionals and recursion"
   ]
  },
  {
   "cell_type": "markdown",
   "metadata": {},
   "source": [
    "**Exercise 5.1.** The time module provides a function, aslo named time, that returns the current Greenwich Mean Time in *\"the epoch\"*, whichi is an arbitrary time used as a reference point. On UNIX systems, the epoch is 1 January 1970."
   ]
  },
  {
   "cell_type": "code",
   "execution_count": 1,
   "metadata": {},
   "outputs": [
    {
     "data": {
      "text/plain": [
       "1619441088.7169442"
      ]
     },
     "execution_count": 1,
     "metadata": {},
     "output_type": "execute_result"
    }
   ],
   "source": [
    "import time\n",
    "time.time()"
   ]
  },
  {
   "cell_type": "markdown",
   "metadata": {},
   "source": [
    "Write a script that reads the current time and convert it to a time of day in hours, minutes and secund, plus the number of days since the epoch."
   ]
  },
  {
   "cell_type": "code",
   "execution_count": 18,
   "metadata": {},
   "outputs": [
    {
     "name": "stdout",
     "output_type": "stream",
     "text": [
      "Seconds since epoch: 1619443038.5075498\n",
      "Minutes sicne epoch: 449845.2884743381\n",
      "Days since epoch: 18743.553686430754\n",
      "Years since epoch: 51.3522018806322\n",
      "\n",
      "The current Greeneich time is: 13:17.18\n"
     ]
    }
   ],
   "source": [
    "# First we calculate how many seconds, minutes, days and years have pasend since the epoch.\n",
    "seconds = time.time()\n",
    "minutes = time.time()/60\n",
    "hours = minutes/60\n",
    "days = hours/24\n",
    "years = days/365\n",
    "print(\"Seconds since epoch: \" + str(seconds))\n",
    "print(\"Minutes sicne epoch: \" + str(hours))\n",
    "print(\"Days since epoch: \" + str(days))\n",
    "print(\"Years since epoch: \" + str(years))\n",
    "\n",
    "# Now we calculate the current Greenwich mean time using the module opeator.\n",
    "cgws = int(seconds%60)\n",
    "cgwh = int(hours%24)\n",
    "cgwm = int(minutes%60)\n",
    "cgws = int(seconds%60)\n",
    "\n",
    "print(\"\\nThe current Greeneich time is: \" + str(cgwh)+\":\"+str(cgwm)+\".\"+str(cgws))"
   ]
  },
  {
   "cell_type": "markdown",
   "metadata": {},
   "source": [
    "**Exercise 5.2.** Fermat's Last Theorem say that there are no positive integers a,b, and c such that $a^n + b^n = c^n$ for any values of n greater than 2.\n",
    "1. Write a function named check_fermat that takes four parameters- a, b, c and n -and checks to see if Fermat's last theorem holds. If n is grater than 2 and $a^n + b^n = c^n$ the progam should print. \"Holy smokes, Fermat was wrong!\", Otherwise the program should print, \"No, that dosn't work.\"\n",
    "\n",
    "2. Write a function that prompts the user to input values for a, b, c and n, converts them to integers, and uses check_fermat to check whether they violate Fermat's theorem."
   ]
  },
  {
   "cell_type": "code",
   "execution_count": 22,
   "metadata": {},
   "outputs": [
    {
     "name": "stdout",
     "output_type": "stream",
     "text": [
      "No, that dosn't work.\n"
     ]
    }
   ],
   "source": [
    "# 1.\n",
    "def check_fermat(a,b,c,n):\n",
    "    # Note I use the logic operator \"and\" to verify both parts of the theorem.\n",
    "    if a**n+b**n == c**n and n>2:\n",
    "        print(\"Holy smokes, Fermat was wrong!\")\n",
    "    else:\n",
    "        print(\"No, that dosn't work.\")\n",
    "        \n",
    "check_fermat(1,2,3,4)"
   ]
  },
  {
   "cell_type": "code",
   "execution_count": 25,
   "metadata": {},
   "outputs": [
    {
     "name": "stdout",
     "output_type": "stream",
     "text": [
      "Enter some integers to check Fermat's Last Theorem\n",
      "\n",
      "Enter the first integer:2\n",
      "\n",
      "Enter the second integer:3\n",
      "\n",
      "Enter the third integer:4\n",
      "\n",
      "Enter the exponent.5\n",
      "No, that dosn't work.\n"
     ]
    }
   ],
   "source": [
    "#2\n",
    "def prompt_fermat():\n",
    "    print(\"Enter some integers to check Fermat's Last Theorem\")\n",
    "    # Do not forget to convert the input to an integer.\n",
    "    first = int(input(\"\\nEnter the first integer:\"))\n",
    "    second = int(input(\"\\nEnter the second integer:\"))\n",
    "    third = int(input(\"\\nEnter the third integer:\"))\n",
    "    ex = int(input(\"\\nEnter the exponent.\"))\n",
    "    check_fermat(first, second, third, ex)\n",
    "    \n",
    "prompt_fermat()"
   ]
  },
  {
   "cell_type": "markdown",
   "metadata": {},
   "source": [
    "**Exercise 5.3.** If you are given three sticks, you may or may not be able to arrane them in a triangle. For example, if one of the sticks is 12 inches long and the other two are one inch long, you will not be able to get the shor sticks to meet in the middle. For any three lengths, there is a simple test to see if it is possible to form a triangle:\n",
    "<br>\n",
    "If any of the three lengths is greater that the sum of the other two, then you cannot form a triange. Otherwise, you can.(If the sum of two lengths equal the third, the form what is called a \"degenerate\" triangle.)\n",
    "<br>\n",
    "1. Write a function named is_triangle that takes three integers as arguments, and that prints eithe \"yes\" or \"No\", depending on wether you can or can not form a triangle from sticks with the given lengths.\n",
    "2. Write a function that prompts the user to input three stick lengths, converts them to integers, and uses is triangle to check whether sicks with the given lengths can form a triangle."
   ]
  },
  {
   "cell_type": "code",
   "execution_count": 29,
   "metadata": {},
   "outputs": [
    {
     "name": "stdout",
     "output_type": "stream",
     "text": [
      "Yes\n",
      "No\n"
     ]
    }
   ],
   "source": [
    "#1\n",
    "def is_triangle(a,b,c):\n",
    "    if a+b>c and b+c>a and a+c>b:\n",
    "        print(\"Yes\")\n",
    "    else:\n",
    "        print(\"No\")\n",
    "        \n",
    "is_triangle(1,1,1)\n",
    "is_triangle(1,1,5)"
   ]
  },
  {
   "cell_type": "code",
   "execution_count": 30,
   "metadata": {},
   "outputs": [
    {
     "name": "stdout",
     "output_type": "stream",
     "text": [
      "\n",
      "Enter the length of sticks to verify if you can make a triangle with them:\n",
      "\n",
      "Enter the length of the first stick:3\n",
      "\n",
      "Enter the length of the second stick:3\n",
      "\n",
      "Enter the length of the third stick:4\n",
      "No\n",
      "\n",
      "Enter the length of sticks to verify if you can make a triangle with them:\n",
      "\n",
      "Enter the length of the first stick:4\n",
      "\n",
      "Enter the length of the second stick:4\n",
      "\n",
      "Enter the length of the third stick:4\n",
      "Yes\n"
     ]
    }
   ],
   "source": [
    "#2\n",
    "def triangle():\n",
    "    print(\"\\nEnter the length of sticks to verify if you can make a triangle with them:\")\n",
    "    fir = input(\"\\nEnter the length of the first stick:\")\n",
    "    sec = input(\"\\nEnter the length of the second stick:\")\n",
    "    thi = input(\"\\nEnter the length of the third stick:\")\n",
    "    is_triangle(fir, sec, thi)\n",
    "    \n",
    "triangle()\n",
    "triangle()"
   ]
  },
  {
   "cell_type": "markdown",
   "metadata": {},
   "source": [
    "**Exercise 5.4.** is to make a stack diagram, I won't make it here."
   ]
  },
  {
   "cell_type": "markdown",
   "metadata": {},
   "source": [
    "**Exercise 5.5.** Read the following functiona and see if you can figure what id does.\n",
    "<br> \n",
    "You have the code, "
   ]
  },
  {
   "cell_type": "markdown",
   "metadata": {},
   "source": []
  },
  {
   "cell_type": "markdown",
   "metadata": {},
   "source": [
    "**Exercise 5.6.** The Koch curve is a fractal that looks something like Figure 5.2. To draw a Koch curve with length x, all you have to do is:\n",
    "1. Draw a Koch curve with length x/3.\n",
    "2. Turn left 60 degrees.\n",
    "3. Draw a Kocj curve with lengthx/3.\n",
    "4. Turn rigth 120 degrees.\n",
    "5. Draw a Koch curve with length x/3.\n",
    "6. Turn left 60 degrees.\n",
    "7. Draw a Koch curve with length x/3.\n",
    "<br>\n",
    "<br>\n",
    "The exeption is if x is less than 3: in that case, you can just draw a straight line with length x.\n",
    "1. Write a function called koch that takes a turtle and a length as parameters, and uses the turtle to draw a Koch curve with the given length.\n",
    "2. Write a function called snowflake that draws three Koch curves to make the outline of a snowflake.\n"
   ]
  },
  {
   "cell_type": "code",
   "execution_count": 18,
   "metadata": {},
   "outputs": [],
   "source": [
    "def koch(t, length):\n",
    "    if length < 3:\n",
    "        t.fd(length)\n",
    "    else:\n",
    "        koch(t, length/3)\n",
    "        t.lt(60)\n",
    "        koch(t, length/3)\n",
    "        t.rt(120)\n",
    "        koch(t, length/3)\n",
    "        t.lt(60)\n",
    "        koch(t, length/3)\n",
    "    "
   ]
  },
  {
   "cell_type": "code",
   "execution_count": 23,
   "metadata": {},
   "outputs": [],
   "source": [
    "import turtle\n",
    "bob = turtle.Turtle()\n",
    "\n",
    "koch(bob, 200)\n",
    "\n"
   ]
  },
  {
   "cell_type": "code",
   "execution_count": 24,
   "metadata": {},
   "outputs": [],
   "source": [
    "turtle.bye()"
   ]
  },
  {
   "cell_type": "code",
   "execution_count": null,
   "metadata": {},
   "outputs": [],
   "source": []
  }
 ],
 "metadata": {
  "kernelspec": {
   "display_name": "Python 3",
   "language": "python",
   "name": "python3"
  },
  "language_info": {
   "codemirror_mode": {
    "name": "ipython",
    "version": 3
   },
   "file_extension": ".py",
   "mimetype": "text/x-python",
   "name": "python",
   "nbconvert_exporter": "python",
   "pygments_lexer": "ipython3",
   "version": "3.8.5"
  }
 },
 "nbformat": 4,
 "nbformat_minor": 4
}

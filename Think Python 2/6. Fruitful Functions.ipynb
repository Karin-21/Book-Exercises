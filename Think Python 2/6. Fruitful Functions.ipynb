{
 "cells": [
  {
   "cell_type": "markdown",
   "metadata": {},
   "source": [
    "## Chapter 6\n",
    "# Fruitful Functions"
   ]
  },
  {
   "cell_type": "markdown",
   "metadata": {},
   "source": [
    "**Exercise 6.1** Draw a stack diagram for the following program. What does the program print?\n",
    "<br>\n",
    "- Once more, I wont cover stack diagrams."
   ]
  },
  {
   "cell_type": "markdown",
   "metadata": {},
   "source": [
    "**Exercise 6.2.** The Ackermann function, A(m,n), is defined:\n",
    "\n",
    "Write a function named ack that evaluates the Ackermann function. Use your function to evaluate ack(3, 4), wich should be 125. What happend for larger values of m and n?"
   ]
  },
  {
   "cell_type": "code",
   "execution_count": 1,
   "metadata": {},
   "outputs": [],
   "source": [
    "def ack(m, n):\n",
    "    # We can observe by the definition of the function that has infinite recursion for negative numbers.\n",
    "    # First we shield or program for infinite recursion.\n",
    "    if n < 0 or m < 0:\n",
    "        print(\"Please enter just non negative integers.\")\n",
    "        return\n",
    "    # Here we define te function.\n",
    "    elif m == 0:\n",
    "        return n+1\n",
    "    elif m > 0 and n == 0:\n",
    "        return ack(m-1, 1)\n",
    "    elif m > 0 and n > 0:\n",
    "        return ack(m-1,ack(m,n-1))"
   ]
  },
  {
   "cell_type": "code",
   "execution_count": 2,
   "metadata": {},
   "outputs": [
    {
     "data": {
      "text/plain": [
       "125"
      ]
     },
     "execution_count": 2,
     "metadata": {},
     "output_type": "execute_result"
    }
   ],
   "source": [
    "# Obs: For big numbers (m = 5) it takes too long to the program to execute\n",
    "ack(3, 4)\n"
   ]
  },
  {
   "cell_type": "markdown",
   "metadata": {},
   "source": [
    "**Exercise 6.3.** A palindrome is a word that is spelled the same backward an forward, like \"noon\" and \"redivider\". Rescursivley, a word is a palindome if the first and last letters are the same and the middle is a palindrome.\n",
    "1. Type these functions into a file named palindrome.py and test them out. What happend if you call middle with a string with two letter? One letter? What about the empty string, wich is written \"\" and contains no letters?\n",
    "2. Write a function called is_palindrome that takesa string argument and returns True if it is a palindrome and False otherwise. Remeber that you can use te built-in function len to check the length of a string.\n"
   ]
  },
  {
   "cell_type": "code",
   "execution_count": 3,
   "metadata": {},
   "outputs": [
    {
     "name": "stdout",
     "output_type": "stream",
     "text": [
      "P\n",
      "n\n",
      "ytho\n",
      "\n",
      "\n"
     ]
    }
   ],
   "source": [
    "# 1. \n",
    "# Frist we define the functions.\n",
    "def first(word):\n",
    "    return word[0]\n",
    "\n",
    "def last(word):\n",
    "    return word[-1]\n",
    "    \n",
    "def middle(word):\n",
    "    return word[1:-1]\n",
    "\n",
    "# Now we'll test them.\n",
    "print(first(\"Python\"))\n",
    "print(last(\"Python\"))\n",
    "print(middle(\"Python\"))\n",
    "\n",
    "# Lets see what happens with the other cases.\n",
    "print(middle(\"on\"))\n",
    "print(middle(\"\"))\n",
    "\n",
    "# There is nothing to print."
   ]
  },
  {
   "cell_type": "code",
   "execution_count": 4,
   "metadata": {},
   "outputs": [],
   "source": [
    "# First we import the functions of the previous exercise.\n",
    "def first(word):\n",
    "    return word[0]\n",
    "\n",
    "def last(word):\n",
    "    return word[-1]\n",
    "    \n",
    "def middle(word):\n",
    "    return word[1:-1]\n",
    "\n",
    "# Here we start our function.\n",
    "def is_palindrome(word):\n",
    "    # We make a for loop that runs half of our word.\n",
    "    for i in range(int(len(word)/2)):\n",
    "        # First we cover the case where the word is not a palindrome so the program stops.\n",
    "        if first(word) != last(word):\n",
    "            return \"This word is not a palindrome.\"\n",
    "        # If the first and last letters are the same, we evaluate for the middle usin composition of functions.\n",
    "        else:\n",
    "            is_palindrome(middle(word))\n",
    "            return \"The word is a palindrome.\"\n",
    "            "
   ]
  },
  {
   "cell_type": "code",
   "execution_count": 5,
   "metadata": {},
   "outputs": [
    {
     "name": "stdout",
     "output_type": "stream",
     "text": [
      "This word is not a palindrome.\n",
      "The word is a palindrome.\n"
     ]
    }
   ],
   "source": [
    "# Now we test both outcomes work properly.\n",
    "print(is_palindrome(\"computer\"))\n",
    "print(is_palindrome(\"redivider\"))"
   ]
  },
  {
   "cell_type": "markdown",
   "metadata": {},
   "source": [
    "**Exercise 6.4.** A number, a, is a power of b if it is divisible by b and a/b is a power of b. Write a function is_power that takes parameters a and b and returns True if a is a ppower of b. Note: you will have to think about the base case."
   ]
  },
  {
   "cell_type": "code",
   "execution_count": 8,
   "metadata": {},
   "outputs": [],
   "source": [
    "# First of all, we notice the definitioin of power referes to itself, so we'll need recursevedefinition of the function.\n",
    "\n",
    "def is_power(a,b):\n",
    "    # We'll only carre about positive integer powers.\n",
    "    if a < b:\n",
    "        return \"a is not a power of b.\"\n",
    "    # Our base case is b^1 which is b, we want a = b\n",
    "    elif a == b:\n",
    "        return True\n",
    "    # Now we define the recursive function that must meet two requirements, so we use the and operator.\n",
    "    elif a%b == 0 and is_power(a/b,b):\n",
    "        return True\n",
    "    else:\n",
    "        return False"
   ]
  },
  {
   "cell_type": "code",
   "execution_count": 9,
   "metadata": {},
   "outputs": [
    {
     "data": {
      "text/plain": [
       "True"
      ]
     },
     "execution_count": 9,
     "metadata": {},
     "output_type": "execute_result"
    }
   ],
   "source": [
    "is_power(25,5)"
   ]
  },
  {
   "cell_type": "markdown",
   "metadata": {},
   "source": [
    "**Exercise 6.6.** The greatest common divisor (GCD) of a and b is the larges number that divides both of them with no remainder.\n",
    "<br>\n",
    "One way to find the GCD of two numbers is based on the observation that if r is the remainder when a is divided by b, the gcd(a,b) = gcd(b,r). As a base case , we can use gcd(a,0)=a.\n",
    "<br>\n",
    "Write a function called gcd that takes parameters a and b and returns theri greates common divisor."
   ]
  },
  {
   "cell_type": "code",
   "execution_count": 10,
   "metadata": {},
   "outputs": [],
   "source": [
    "def gcd(a,b):\n",
    "    # We star with the base case.\n",
    "    if b == 0:\n",
    "        return \"The gcd of \" + str(a) + \" and 0 is: \" + str(a) \n",
    "    # Now the recursive definition.\n",
    "    else:\n",
    "        r = a%b\n",
    "        return gcd(b,r)"
   ]
  },
  {
   "cell_type": "code",
   "execution_count": 11,
   "metadata": {},
   "outputs": [
    {
     "name": "stdout",
     "output_type": "stream",
     "text": [
      "The gcd of 10 and 0 is: 10\n",
      "The gcd of 1 and 0 is: 1\n",
      "The gcd of 2 and 0 is: 2\n",
      "The gcd of 1 and 0 is: 1\n",
      "The gcd of 2 and 0 is: 2\n",
      "The gcd of 5 and 0 is: 5\n",
      "The gcd of 2 and 0 is: 2\n",
      "The gcd of 1 and 0 is: 1\n",
      "The gcd of 2 and 0 is: 2\n",
      "The gcd of 1 and 0 is: 1\n"
     ]
    }
   ],
   "source": [
    "for i in range(10):\n",
    "    print(gcd(10,i))"
   ]
  },
  {
   "cell_type": "code",
   "execution_count": null,
   "metadata": {},
   "outputs": [],
   "source": []
  }
 ],
 "metadata": {
  "kernelspec": {
   "display_name": "Python 3",
   "language": "python",
   "name": "python3"
  },
  "language_info": {
   "codemirror_mode": {
    "name": "ipython",
    "version": 3
   },
   "file_extension": ".py",
   "mimetype": "text/x-python",
   "name": "python",
   "nbconvert_exporter": "python",
   "pygments_lexer": "ipython3",
   "version": "3.8.5"
  }
 },
 "nbformat": 4,
 "nbformat_minor": 4
}

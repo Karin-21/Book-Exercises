{
 "cells": [
  {
   "cell_type": "markdown",
   "metadata": {},
   "source": [
    "## Chapter 7\n",
    "# Iteration"
   ]
  },
  {
   "cell_type": "markdown",
   "metadata": {},
   "source": [
    "**Exercise 7.1.** Copy a loop from section 7.5 and encapsulate it in a function called mysqrt that takes a as a parameter, chooses a reasonable value of x, and returns an estimate of the square root of a.\n",
    "To test it, write a function named as a test_square_root that printts a table like this:\n",
    "<br>\n",
    "(Check the table in the book).\n"
   ]
  },
  {
   "cell_type": "code",
   "execution_count": 4,
   "metadata": {},
   "outputs": [],
   "source": [
    "def mysqrt(a):\n",
    "    import math\n",
    "    # x is our estimate (I do not any method to estimate square roots)\n",
    "    x = math.sqrt(a)\n",
    "    # epsilon is our control value\n",
    "    epsilon = 0.000001\n",
    "    # Now here goes our iteration\n",
    "    while True:\n",
    "        y = (x+a/x)/2\n",
    "        if abs(y-x) < epsilon:\n",
    "            return y\n",
    "            break\n",
    "        x = y\n",
    "        \n",
    "        "
   ]
  },
  {
   "cell_type": "code",
   "execution_count": 32,
   "metadata": {},
   "outputs": [],
   "source": [
    "def test_square_root():\n",
    "    import math\n",
    "    print(\"a\\t mysqrt(a)\\t\\t math.sqrt(a)\\t\\t diff\")\n",
    "    print(\"-\\t ---------\\t\\t ------------\\t\\t ----\")\n",
    "    for i in range(10):\n",
    "        print(i+1,\"\\t\", mysqrt(i+1),\"\\t\", math.sqrt(i+1),\"\\t\", mysqrt(i+1)-math.sqrt(i+1))\n",
    "   \n",
    "        \n",
    "            "
   ]
  },
  {
   "cell_type": "code",
   "execution_count": 33,
   "metadata": {},
   "outputs": [
    {
     "name": "stdout",
     "output_type": "stream",
     "text": [
      "a\t mysqrt(a)\t\t math.sqrt(a)\t\t diff\n",
      "-\t ---------\t\t ------------\t\t ----\n",
      "1 \t 1.0 \t 1.0 \t 0.0\n",
      "2 \t 1.414213562373095 \t 1.4142135623730951 \t -2.220446049250313e-16\n",
      "3 \t 1.7320508075688772 \t 1.7320508075688772 \t 0.0\n",
      "4 \t 2.0 \t 2.0 \t 0.0\n",
      "5 \t 2.23606797749979 \t 2.23606797749979 \t 0.0\n",
      "6 \t 2.449489742783178 \t 2.449489742783178 \t 0.0\n",
      "7 \t 2.6457513110645907 \t 2.6457513110645907 \t 0.0\n",
      "8 \t 2.82842712474619 \t 2.8284271247461903 \t -4.440892098500626e-16\n",
      "9 \t 3.0 \t 3.0 \t 0.0\n",
      "10 \t 3.162277660168379 \t 3.1622776601683795 \t -4.440892098500626e-16\n"
     ]
    }
   ],
   "source": [
    "test_square_root()"
   ]
  },
  {
   "cell_type": "markdown",
   "metadata": {},
   "source": [
    "**Exercise 7.2.** The build-in function eval takes a string and evaluates it using the Python interpreter.\n",
    "<br>\n",
    "Write a function calles eval_loop that iteratively prompts the user, takes the resulting input and evaluates it using eval, and prints the result. It should continues until the user enters \"done\", and the retunr the value of the last expression it evaluated."
   ]
  },
  {
   "cell_type": "code",
   "execution_count": 22,
   "metadata": {},
   "outputs": [],
   "source": [
    "def eval_loop():\n",
    "    while True:\n",
    "        user_input = input(\"Please enter something to evaluate (enter 'done' anytime to quit):\")\n",
    "    \n",
    "        if user_input == \"done\":\n",
    "            break\n",
    "        # Creating the evaluation after the breake statement allows us to keep track of the last evaluation even after we break the loop.\n",
    "        line = eval(user_input)\n",
    "        print(line)\n",
    "    \n",
    "    print(\"Last evaluation: \" + str(line))\n",
    "    \n",
    "    "
   ]
  },
  {
   "cell_type": "code",
   "execution_count": 23,
   "metadata": {},
   "outputs": [
    {
     "name": "stdout",
     "output_type": "stream",
     "text": [
      "Please enter something to evaluate (enter 'done' anytime to quit):3+3\n",
      "6\n",
      "Please enter something to evaluate (enter 'done' anytime to quit):25*5\n",
      "125\n",
      "Please enter something to evaluate (enter 'done' anytime to quit):4**3\n",
      "64\n",
      "Please enter something to evaluate (enter 'done' anytime to quit):done\n",
      "Last evaluation: 64\n"
     ]
    }
   ],
   "source": [
    "eval_loop()"
   ]
  },
  {
   "cell_type": "markdown",
   "metadata": {},
   "source": [
    "**Exercise 7.3.** The mathematician Srinivasa Ramanujan fond an infinite series that can be used to generate a numerical approximation of $\\frac{1}{\\pi}$:\n",
    "<br>\n",
    "$\\frac{1}{\\pi} = \\frac{2\\sqrt{2}}{9801}\\sum_{k=0}^{\\infty}\\frac{(4k)!(1103+26390k)}{(k!)^{4}396^{4k}}$\n",
    "<br>\n",
    "Write a function called estimate_pi that uses this formula to compute and return an estimate of $\\pi$. It should use a shile loop to compute terms of the symmation until the last term is smaller than 1e-15 (which is Python notation for $10^{-15}$). You can chec the result by comparin it to math.pi."
   ]
  },
  {
   "cell_type": "code",
   "execution_count": 48,
   "metadata": {},
   "outputs": [
    {
     "name": "stdout",
     "output_type": "stream",
     "text": [
      "3.141592653589793\n"
     ]
    }
   ],
   "source": [
    "# We'll need the math libary, so we import it first.\n",
    "import math\n",
    "\n",
    "def estimate_pi():\n",
    "    # When k = 0 the expresion goes to 0, we can star here.\n",
    "    estimate = 0\n",
    "    # The factor is a constant, so it has te c letter.\n",
    "    c = 2*math.sqrt(2) / 9801\n",
    "    # We also start the sum with k = 0.\n",
    "    k = 0\n",
    "    # Now the while loop.\n",
    "    while True:\n",
    "        # s is the sum so here goes the operation.\n",
    "        s = (math.factorial(4*k) * (1103 + 26390*k))/(math.factorial(k)**4 * 396**(4*k))\n",
    "        # The n-th term of the sum.\n",
    "        term = c*s\n",
    "        # Now we actualize the estimation\n",
    "        estimate += term\n",
    "        # We break the while loop when the threshold is reached.\n",
    "        if abs(term)<1e-15:\n",
    "            break\n",
    "        # We take the next integer.\n",
    "        k += 1\n",
    "\n",
    "    return 1 / estimate\n",
    "\n",
    "print(estimate_pi())"
   ]
  },
  {
   "cell_type": "code",
   "execution_count": null,
   "metadata": {},
   "outputs": [],
   "source": []
  }
 ],
 "metadata": {
  "kernelspec": {
   "display_name": "Python 3",
   "language": "python",
   "name": "python3"
  },
  "language_info": {
   "codemirror_mode": {
    "name": "ipython",
    "version": 3
   },
   "file_extension": ".py",
   "mimetype": "text/x-python",
   "name": "python",
   "nbconvert_exporter": "python",
   "pygments_lexer": "ipython3",
   "version": "3.8.5"
  }
 },
 "nbformat": 4,
 "nbformat_minor": 4
}

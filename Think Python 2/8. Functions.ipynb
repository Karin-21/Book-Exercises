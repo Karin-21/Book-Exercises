{
 "cells": [
  {
   "cell_type": "markdown",
   "metadata": {},
   "source": [
    "<font color=\"Navie\" face=\"Comic Sans MS,arial\">\n",
    "<h1 align=\"center\"><i>TRY IT YOURSELF</i></h1>\n",
    "</font>"
   ]
  },
  {
   "cell_type": "markdown",
   "metadata": {},
   "source": [
    "**8-1. Message:** Write a function called display_message() that prints one sentence telling everyone what you are learning about in this chapter. Call the function, and make sure the message displays correctly."
   ]
  },
  {
   "cell_type": "code",
   "execution_count": 1,
   "metadata": {},
   "outputs": [
    {
     "name": "stdout",
     "output_type": "stream",
     "text": [
      "Hello There! I'm learning how to make functions.\n"
     ]
    }
   ],
   "source": [
    "def display_message():\n",
    "    \"\"\"In the print statment you can put whatever message you want.\"\"\"\n",
    "    print(\"Hello There! I'm learning how to make functions.\")\n",
    "    \n",
    "display_message()"
   ]
  },
  {
   "cell_type": "markdown",
   "metadata": {},
   "source": [
    "**8-2. Facorite Book:** Write a function called facorite_book() that accepts one parameter, title. The function should print a message, such as \"One of my favorite books is Alice in Wonderland\". Call the function, making sure to include a book title as an argument in the function call."
   ]
  },
  {
   "cell_type": "code",
   "execution_count": 4,
   "metadata": {},
   "outputs": [
    {
     "name": "stdout",
     "output_type": "stream",
     "text": [
      "One of my foavorite books is Lord Of The Rings.\n"
     ]
    }
   ],
   "source": [
    "def favorite_book(title):\n",
    "    \"\"\"We pass the argument to the print functions with the message we want.\"\"\"\n",
    "    print(\"One of my foavorite books is \" + title.title() + \".\")\n",
    "    \n",
    "favorite_book(\"lord of the rings\")"
   ]
  },
  {
   "cell_type": "markdown",
   "metadata": {},
   "source": [
    "**8-3. T-Shirt:** Write a functiont called make_shirt() that accepts a size and the text of a message that should be printed on the shirt. The function should print a sentence summarizing the size of the shirt and the message printed on it.\n",
    "    Call the function once using positional arguments to make a shirt. Call the function a second time using keyword arguments."
   ]
  },
  {
   "cell_type": "code",
   "execution_count": 8,
   "metadata": {},
   "outputs": [
    {
     "name": "stdout",
     "output_type": "stream",
     "text": [
      "\n",
      "The shirt's size is: M\n",
      "Shirt's text: I am the senate!\n",
      "\n",
      "The shirt's size is: L\n",
      "Shirt's text: I have brought peace, freedom and security to my new empire!\n"
     ]
    }
   ],
   "source": [
    "def make_shirt(size, text):\n",
    "    \"\"\"First we print the size of the shirt.\"\"\"\n",
    "    print(\"\\nThe shirt's size is: \" + size)\n",
    "    \"\"\"Now we print the message in the shirt.\"\"\"\n",
    "    print(\"Shirt's text: \" + text)\n",
    "    \n",
    "#Calling the function with positional arguments.\n",
    "make_shirt(\"M\", \"I am the senate!\")\n",
    "\n",
    "#Calling the function whith keyword arguments.\n",
    "make_shirt(text=\"I have brought peace, freedom and security to my new empire!\", size = \"L\")"
   ]
  },
  {
   "cell_type": "markdown",
   "metadata": {},
   "source": [
    "**8-4. Large Shirts:** Modify the make shirt() function so that shirts are large by default with a message that reads *I love Python*. Make a large shirt and a medium shirt whith the default message, and a shirt of any size with different message."
   ]
  },
  {
   "cell_type": "code",
   "execution_count": 11,
   "metadata": {},
   "outputs": [
    {
     "name": "stdout",
     "output_type": "stream",
     "text": [
      "\n",
      "The shirt's size is: L\n",
      "Shirtś text: I <3 Python\n",
      "\n",
      "The shirt's size is: M\n",
      "Shirtś text: I <3 Python\n",
      "\n",
      "The shirt's size is: S\n",
      "Shirtś text: Im one with the force, the force is with me\n"
     ]
    }
   ],
   "source": [
    "def make_shirt(size = \"L\", text = \"I <3 Python\"):\n",
    "    print(\"\\nThe shirt's size is: \" + size)\n",
    "    print(\"Shirtś text: \" + text)\n",
    "    \n",
    "#Making a large shirt with the default message.\n",
    "make_shirt()\n",
    "\n",
    "#Making a medium shirt with the default message.\n",
    "make_shirt(size = \"M\")\n",
    "\n",
    "#Making a small shirt whith different message.\n",
    "make_shirt(size=\"S\", text = \"Im one with the force, the force is with me\")"
   ]
  },
  {
   "cell_type": "markdown",
   "metadata": {},
   "source": [
    "**8-5. Cities:** Write a function called describe_city() that accepts the name of a city and its country. The function should print a simple sentence, such as Reykjavik is in Iceland. Give the parameter for the country a default value. Call your functionf for three different cities, at leas one of which is not in the default country."
   ]
  },
  {
   "cell_type": "code",
   "execution_count": 17,
   "metadata": {},
   "outputs": [
    {
     "name": "stdout",
     "output_type": "stream",
     "text": [
      "Osaka is in Japan.\n",
      "Kyoto is in Japan.\n",
      "Stuttgart is in Germany.\n"
     ]
    }
   ],
   "source": [
    "def describe_city(city, country = \"japan\"):\n",
    "    \"\"\"Describing the city with a message.\"\"\"\n",
    "    print(city.title() + \" is in \" + country.title() + \".\")\n",
    "    \n",
    "#Describing two cities in Japan.\n",
    "describe_city(\"osaka\")\n",
    "describe_city(\"kyoto\")\n",
    "\n",
    "#Describing a city in another country.\n",
    "describe_city(\"stuttgart\", country = \"germany\")"
   ]
  },
  {
   "cell_type": "markdown",
   "metadata": {},
   "source": [
    "**8-6. City Names:** Write a function called city_country(9 that takes in the name of a city and its country. The function should return a string formatted like this:\n",
    "<br>\n",
    "\"Santiago, Chile\"\n",
    "</br>\n",
    "<br>\n",
    "Call your function with at least three city-country pairs, and print the value that's returned."
   ]
  },
  {
   "cell_type": "code",
   "execution_count": 20,
   "metadata": {},
   "outputs": [
    {
     "name": "stdout",
     "output_type": "stream",
     "text": [
      "Tokyo, Japan\n",
      "Delhi, India\n",
      "Shangai, China\n",
      "Mexico City, Mexico\n"
     ]
    }
   ],
   "source": [
    "def city_country(city, country):\n",
    "    \"\"\"Return a formatted description\"\"\"\n",
    "    description = city + \", \" + country\n",
    "    return description.title()\n",
    "\n",
    "description_1 = city_country(\"tokyo\", \"japan\")\n",
    "print(description_1)\n",
    "\n",
    "description_2 = city_country(\"delhi\", \"india\")\n",
    "print(description_2)\n",
    "\n",
    "description_3 = city_country(\"shangai\", \"china\")\n",
    "print(description_3)\n",
    "\n",
    "description_4 = city_country(\"mexico city\", \"mexico\")\n",
    "print(description_4)"
   ]
  },
  {
   "cell_type": "markdown",
   "metadata": {},
   "source": [
    "**8-7. Album:** Write a function called make_album() that builds a dictionary describing a music album. The function should take in an artist name and an album title, and it should return a dictionary containing these two pieces of information. Use the function tomake three dictionaries representing different albums. Print each return value to show that the dictionaries are storing the album information correctly.\n",
    "<br>\n",
    "Add an optional parameter no make_album() that allows you to store the number of tracks on an album. If the calling line includes a value for the number of tracks, add that value to the album's dictionary. make at least one new function call that includes the number of tracks on an album."
   ]
  },
  {
   "cell_type": "code",
   "execution_count": 13,
   "metadata": {},
   "outputs": [
    {
     "name": "stdout",
     "output_type": "stream",
     "text": [
      "{'artist': 'Led Zeppelin', 'title': 'Led Zeppelin: Iv'}\n",
      "{'artist': 'Iron Iaiden', 'title': 'The Number Of The Beast'}\n",
      "{'artist': 'The Beatles', 'title': \"Sgt. Pepper'S Lonley Hearts Club Band\"}\n",
      "{'artist': 'Queen', 'title': 'A Night At The Opera', 'tracks': 12}\n",
      "{'artist': 'Pink Floyd', 'title': 'Dark Side Of The Moon', 'tracks': 10}\n"
     ]
    }
   ],
   "source": [
    "def make_album(artist, title, tracks_num=\"\"):\n",
    "    if tracks_num:\n",
    "        album = {\"artist\" : artist.title(), \"title\" : title.title(), \"tracks\" : tracks_num}\n",
    "    else:\n",
    "        album = {\"artist\" : artist.title(), \"title\": title.title()}\n",
    "    return album\n",
    "\n",
    "album_1 = make_album(\"led zeppelin\", \"led zeppelin: IV\")\n",
    "print(album_1)\n",
    "    \n",
    "album_2 = make_album(\"iron iaiden\", \"the number of the beast\")\n",
    "print(album_2)\n",
    "\n",
    "album_3 = make_album(\"the beatles\", \"sgt. pepper's lonley hearts club band\")\n",
    "print(album_3)\n",
    "\n",
    "album_4 = make_album(\"queen\", \"a night at the opera\", 12)\n",
    "print(album_4)\n",
    "\n",
    "album_5 = make_album(\"pink floyd\", \"dark side of the moon\", 10)\n",
    "print(album_5)"
   ]
  },
  {
   "cell_type": "markdown",
   "metadata": {},
   "source": [
    "**8-8. User Albums:** Start with your program form Exercise 8-7. Write a while loop that allows users to enter an album's artist and title. Once you have that information, call make_album() with user's input and print the dictionary tht's screated. be sure to include a quit value in the while loop."
   ]
  },
  {
   "cell_type": "code",
   "execution_count": 16,
   "metadata": {},
   "outputs": [
    {
     "name": "stdout",
     "output_type": "stream",
     "text": [
      "\n",
      "Please enter an artist name:\n",
      "(enter \"quit\" at any time to quit)\n",
      "artist's name: ac/dc\n",
      "album's name: back in black\n",
      "{'artist': 'Ac/Dc', 'title': 'Back In Black'}\n",
      "\n",
      "Please enter an artist name:\n",
      "(enter \"quit\" at any time to quit)\n",
      "artist's name: guns n' roses\n",
      "album's name: appetite for destruction\n",
      "{'artist': \"Guns N' Roses\", 'title': 'Appetite For Destruction'}\n",
      "\n",
      "Please enter an artist name:\n",
      "(enter \"quit\" at any time to quit)\n",
      "artist's name: quit\n"
     ]
    }
   ],
   "source": [
    "def make_album(artist, title, tracks_num=\"\"):\n",
    "    if tracks_num:\n",
    "        album = {\"artist\" : artist.title(), \"title\" : title.title(), \"tracks\" : tracks_num}\n",
    "    else:\n",
    "        album = {\"artist\" : artist.title(), \"title\": title.title()}\n",
    "    return album\n",
    "\n",
    "while True:\n",
    "    print(\"\\nPlease enter an artist name:\")\n",
    "    print('(enter \"quit\" at any time to quit)')\n",
    "    ar = input(\"artist's name: \")\n",
    "    if ar ==\"quit\":\n",
    "        break\n",
    "    al = input(\"album's name: \")\n",
    "    if al == \"quit\":\n",
    "        break\n",
    "    album = make_album(ar, al)\n",
    "    print(album)"
   ]
  },
  {
   "cell_type": "markdown",
   "metadata": {},
   "source": [
    "**8-9. Magicians:** Make a list of magician's names.Pass the list to a function called show_magicians(), wich prints the name of each magician in the list.\n"
   ]
  },
  {
   "cell_type": "code",
   "execution_count": 21,
   "metadata": {},
   "outputs": [
    {
     "name": "stdout",
     "output_type": "stream",
     "text": [
      "Harry Potter\n",
      "Albus Dumbledore\n",
      "Severus Snape\n",
      "Sirius Black\n",
      "Hermione Grenger\n",
      "Ron Weasley\n"
     ]
    }
   ],
   "source": [
    "# I don't know any magician, so here is a list of wizards.\n",
    "wizards = [\"Harry Potter\", \"Albus Dumbledore\", \"Severus Snape\", \"Sirius Black\", \"Hermione Grenger\", \"Ron Weasley\"]\n",
    "\n",
    "def show_wizards():\n",
    "    for wizard in wizards:\n",
    "        print(wizard)\n",
    "        \n",
    "show_wizards()"
   ]
  },
  {
   "cell_type": "markdown",
   "metadata": {},
   "source": [
    "**8_10. Great Magicians:** Start with a copy of your program from Exercise 8-9. Write a function called make_great() that modifies the list of magicians by adding the phrase *the Great* to each magician's name. Call show_magicians() to see that the list has actually been modified."
   ]
  },
  {
   "cell_type": "code",
   "execution_count": 66,
   "metadata": {},
   "outputs": [
    {
     "name": "stdout",
     "output_type": "stream",
     "text": [
      "Harry Potter\n",
      "Albus Dumbledore\n",
      "Severus Snape\n",
      "Sirius Black\n",
      "Hermione Grenger\n",
      "Ron Weasley\n",
      "Harry Potter the Great\n",
      "Albus Dumbledore the Great\n",
      "Severus Snape the Great\n",
      "Sirius Black the Great\n",
      "Hermione Grenger the Great\n",
      "Ron Weasley the Great\n"
     ]
    }
   ],
   "source": [
    "#We start with a copy of the previous exercise.\n",
    "wizards = [\"Harry Potter\", \"Albus Dumbledore\", \"Severus Snape\", \"Sirius Black\", \"Hermione Grenger\", \"Ron Weasley\"]\n",
    "\n",
    "#We modify the code so it prints every element in any list pased to it.\n",
    "def show_wizards(x):\n",
    "    for i in x:\n",
    "        print(i)\n",
    "        \n",
    "show_wizards(wizards)\n",
    "\n",
    "#Lets make the new funcion\n",
    "def make_great():\n",
    "    great_wizards = []\n",
    "    while wizards:\n",
    "        great_wizard = wizards.pop() + \" the Great\"\n",
    "        great_wizards.append(great_wizard)\n",
    "    while great_wizards:\n",
    "        wizards.append(great_wizards.pop())\n",
    "    return(wizards)\n",
    "        \n",
    "\n",
    "make_great()\n",
    "show_wizards(wizards)\n",
    "    \n",
    "    \n",
    "    "
   ]
  },
  {
   "cell_type": "markdown",
   "metadata": {},
   "source": [
    "**8-11. Unchanged Magicians:** Start with your work from 8-10. Call the function make_great() with a copy of the list of magician's names. Because the original list will be unchanged, return the nwe list and store it in a separate list. Call show_magicians() with each list to show that you have one list of the original names and one list with *the Great* added to each magician's name. "
   ]
  },
  {
   "cell_type": "code",
   "execution_count": 68,
   "metadata": {},
   "outputs": [
    {
     "name": "stdout",
     "output_type": "stream",
     "text": [
      "Harry Potter\n",
      "Albus Dumbledore\n",
      "Severus Snape\n",
      "Sirius Black\n",
      "Hermione Grenger\n",
      "Ron Weasley\n",
      "Ron Weasley the Great\n",
      "Hermione Grenger the Great\n",
      "Sirius Black the Great\n",
      "Severus Snape the Great\n",
      "Albus Dumbledore the Great\n",
      "Harry Potter the Great\n"
     ]
    }
   ],
   "source": [
    "#We start with a copy of the previous exercise.\n",
    "wizards = [\"Harry Potter\", \"Albus Dumbledore\", \"Severus Snape\", \"Sirius Black\", \"Hermione Grenger\", \"Ron Weasley\"]\n",
    "great_wizards = []\n",
    "\n",
    "def show_wizards(x):\n",
    "    for i in x:\n",
    "        print(i)\n",
    "        \n",
    "show_wizards(wizards)\n",
    "\n",
    "\n",
    "def make_great():\n",
    "    while wizards:\n",
    "        great_wizard = wizards.pop() + \" the Great\"\n",
    "        great_wizards.append(great_wizard)\n",
    "    return(great_wizards)\n",
    "        \n",
    "\n",
    "make_great()\n",
    "show_wizards(wizards)\n",
    "show_wizards(great_wizards)"
   ]
  },
  {
   "cell_type": "markdown",
   "metadata": {},
   "source": [
    "**8-12. Sandwiches:** Write a function that accepts a list of items a person wants on a sandwich. the function should have one  parameter that collects as many items as the function call provides, and should print a summary of the sandwich that is being ordered. Call the function three times, using a different number of arguments."
   ]
  },
  {
   "cell_type": "code",
   "execution_count": 11,
   "metadata": {},
   "outputs": [
    {
     "name": "stdout",
     "output_type": "stream",
     "text": [
      "\n",
      "Making a sandwich with the following toppings:\n",
      "- Avocado\n",
      "- Tomatoes\n",
      "- Ham\n",
      "\n",
      "Making a sandwich with the following toppings:\n",
      "- Ham\n",
      "- Lettuce\n",
      "\n",
      "Making a sandwich with the following toppings:\n",
      "- German, Sausage\n",
      "- Chedar Cheese\n",
      "- Pepperoni\n",
      "- Lettuce\n",
      "- Bacon\n"
     ]
    }
   ],
   "source": [
    "def make_sandwich(*toppings):\n",
    "    print(\"\\nMaking a sandwich with the following toppings:\")\n",
    "    for topping in toppings:\n",
    "        print(\"- \" + topping.title())\n",
    "        \n",
    "make_sandwich(\"avocado\", \"tomatoes\", \"ham\")\n",
    "make_sandwich(\"ham\",\"lettuce\")\n",
    "make_sandwich(\"german, sausage\", \"chedar cheese\", \"pepperoni\", \"lettuce\", \"bacon\")"
   ]
  },
  {
   "cell_type": "markdown",
   "metadata": {},
   "source": [
    "**8-13. User Profile:** Start with a copy of *user_profile.py* from page 153. Build a profile of yourself by calling build profile(), using your first and last names and three other key-value pairs that describe you. "
   ]
  },
  {
   "cell_type": "code",
   "execution_count": 27,
   "metadata": {},
   "outputs": [
    {
     "name": "stdout",
     "output_type": "stream",
     "text": [
      "{'first_name': 'Albert', 'last_name': 'Einstein', 'location': 'princeton', 'field': 'physics'}\n"
     ]
    }
   ],
   "source": [
    "# We start with the program in pg 253.\n",
    "def build_profile(first, last, **user_info):\n",
    "    profile = {}\n",
    "    profile[\"first_name\"] = first.title()\n",
    "    profile[\"last_name\"] = last.title()\n",
    "    for key, value in user_info.items():\n",
    "        profile[key] = value\n",
    "    return(profile)\n",
    "\n",
    "user_profile = build_profile(\"albert\", \"einstein\", location = \"princeton\", field = \"physics\")\n",
    "print(user_profile)"
   ]
  },
  {
   "cell_type": "code",
   "execution_count": 28,
   "metadata": {},
   "outputs": [
    {
     "name": "stdout",
     "output_type": "stream",
     "text": [
      "{'first_name': 'Oscar', 'last_name': 'Lara', 'location': 'México', 'status': 'student', 'career': ',athematics'}\n"
     ]
    }
   ],
   "source": [
    "# Introducing my own information.\n",
    "my_profile = build_profile(\"oscar\", \"lara\", location = \"México\", status = \"student\", career = \",athematics\")\n",
    "print(my_profile)"
   ]
  },
  {
   "cell_type": "markdown",
   "metadata": {},
   "source": [
    "**8-14. Cars:** Write a function that stores information about a car in a dictionary. The function should always receice a manofacturer an a model name. It should then accept an arbitrary number of kweword arguments. Call the function with the required information and two other name-value pairs, such as a color or an optional feature. Your function should work for a call lke this one:\n",
    "<br>\n",
    "car = make_car('subaru', 'outback', color = 'blue', tow_package=True)\n",
    "<br>\n",
    "Print the dictionary that's returned to make sure all the information was stored correctly."
   ]
  },
  {
   "cell_type": "code",
   "execution_count": 31,
   "metadata": {},
   "outputs": [
    {
     "name": "stdout",
     "output_type": "stream",
     "text": [
      "{'manofacturer': 'mercedes-benz', 'model': '300 SL', 'year': 1954, 'color': 'silver'}\n"
     ]
    }
   ],
   "source": [
    "def describe_car(manofacturer, model, **car_info):\n",
    "    car = {}\n",
    "    car[\"manofacturer\"] = manofacturer\n",
    "    car[\"model\"] = model\n",
    "    for key, value in car_info.items():\n",
    "        car[key] = value\n",
    "    return(car)\n",
    "\n",
    "car1 = describe_car(\"mercedes-benz\", \"300 SL\", year = 1954, color = \"silver\")\n",
    "print(car1)"
   ]
  },
  {
   "cell_type": "markdown",
   "metadata": {},
   "source": [
    "**8-15.** - **8-17.** This exercise refear to import and styling, I will not cover them."
   ]
  },
  {
   "cell_type": "code",
   "execution_count": null,
   "metadata": {},
   "outputs": [],
   "source": []
  }
 ],
 "metadata": {
  "kernelspec": {
   "display_name": "Python 3",
   "language": "python",
   "name": "python3"
  },
  "language_info": {
   "codemirror_mode": {
    "name": "ipython",
    "version": 3
   },
   "file_extension": ".py",
   "mimetype": "text/x-python",
   "name": "python",
   "nbconvert_exporter": "python",
   "pygments_lexer": "ipython3",
   "version": "3.8.5"
  }
 },
 "nbformat": 4,
 "nbformat_minor": 4
}

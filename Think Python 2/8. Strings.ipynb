{
 "cells": [
  {
   "cell_type": "markdown",
   "metadata": {},
   "source": [
    "## Chapter 8\n",
    "# Strings"
   ]
  },
  {
   "cell_type": "markdown",
   "metadata": {},
   "source": [
    "**Exercise 8.1.** Read the documentation of the string methods at http://docs.python.org/3/library/stdtypes.html#string-methods ."
   ]
  },
  {
   "cell_type": "markdown",
   "metadata": {},
   "source": [
    "**Exercise 8.2.** Ther is a string method called count that is similar to the function in section 8.7 Read the documentation of this method and write an invocation that counts the number of a's in \"banana\"."
   ]
  },
  {
   "cell_type": "code",
   "execution_count": 1,
   "metadata": {},
   "outputs": [
    {
     "name": "stdout",
     "output_type": "stream",
     "text": [
      "3\n"
     ]
    }
   ],
   "source": [
    "word = \"banana\"\n",
    "a = word.count(\"a\")\n",
    "print(a)"
   ]
  },
  {
   "cell_type": "markdown",
   "metadata": {},
   "source": [
    "**Exercise 8.3.** A string slice can take a third index that specifies the \"step size\"; that is, the number of spaces between successive characters. A step size of 2 means every other character; 3 means every third, etc.\n",
    "<br>\n",
    "A step size of -1 goes through the word backwards, sothe slice [::-1] generates a reversed string.\n",
    "<br>\n",
    "Use this idiom to write a one-line version of is_palindrome fom Exercise 6.3."
   ]
  },
  {
   "cell_type": "code",
   "execution_count": 2,
   "metadata": {},
   "outputs": [],
   "source": [
    "def is_palindrome(x):\n",
    "    # We evaluate if the string is equal to its revese form.\n",
    "    if x == x[::-1]:\n",
    "        return x + \" is a palindrome.\"\n",
    "    else:\n",
    "        return x + \" is not a palindrome.\""
   ]
  },
  {
   "cell_type": "code",
   "execution_count": 3,
   "metadata": {},
   "outputs": [
    {
     "name": "stdout",
     "output_type": "stream",
     "text": [
      "bob is a palindrome.\n",
      "Python is not a palindrome.\n"
     ]
    }
   ],
   "source": [
    "print(is_palindrome(\"bob\"))\n",
    "print(is_palindrome(\"Python\"))"
   ]
  },
  {
   "cell_type": "markdown",
   "metadata": {},
   "source": [
    "**Exercise 8.4.** The following functions are all intended to check wether a string contains any lowercase letters, but at least some of them are wrong. For each function, describe what the function actually does (assuming that the parameter is a string)."
   ]
  },
  {
   "cell_type": "code",
   "execution_count": 4,
   "metadata": {},
   "outputs": [],
   "source": [
    "def any_lowercase1(s):\n",
    "    # We start by creating a for loop that search in every character of the string.\n",
    "    for c in s:\n",
    "        # If the character is a lowercase letter, it will return True.\n",
    "        if c.islower():\n",
    "            return True\n",
    "        # Otherwise it returns False.\n",
    "        else:\n",
    "            return False\n",
    "    \"\"\" Even the for loop should make the function evaluates every character, it does not,\n",
    "        it stops at the first character because of the return statment, so the function only\n",
    "        evaluates if the first character is lowercased or not.\"\"\""
   ]
  },
  {
   "cell_type": "code",
   "execution_count": 5,
   "metadata": {},
   "outputs": [
    {
     "data": {
      "text/plain": [
       "False"
      ]
     },
     "execution_count": 5,
     "metadata": {},
     "output_type": "execute_result"
    }
   ],
   "source": [
    "any_lowercase1(\"Banana\")"
   ]
  },
  {
   "cell_type": "code",
   "execution_count": 6,
   "metadata": {},
   "outputs": [],
   "source": [
    "def any_lowercase2(s):\n",
    "    # We start with a for loop to search in every character of the string.\n",
    "    for c in s:\n",
    "        # Now we evaluate the lower case c, not the character of the string, \n",
    "        #so the function always returns True, because 'c' is always lower case.\n",
    "        if 'c'.islower():\n",
    "            return 'True'\n",
    "        else:\n",
    "            return 'False'"
   ]
  },
  {
   "cell_type": "code",
   "execution_count": 7,
   "metadata": {},
   "outputs": [
    {
     "data": {
      "text/plain": [
       "'True'"
      ]
     },
     "execution_count": 7,
     "metadata": {},
     "output_type": "execute_result"
    }
   ],
   "source": [
    "any_lowercase2(\"BANANA\")"
   ]
  },
  {
   "cell_type": "code",
   "execution_count": 8,
   "metadata": {},
   "outputs": [],
   "source": [
    "def any_lowercase3(s):\n",
    "    for c in s:\n",
    "        flag = c.islower()\n",
    "    return flag\n",
    "    \"\"\"This functions actualizes the flag in every iteration and returns the last updated flag,\n",
    "        so only returns if the last character is lowercase or not.\"\"\""
   ]
  },
  {
   "cell_type": "code",
   "execution_count": 9,
   "metadata": {},
   "outputs": [
    {
     "data": {
      "text/plain": [
       "False"
      ]
     },
     "execution_count": 9,
     "metadata": {},
     "output_type": "execute_result"
    }
   ],
   "source": [
    "any_lowercase3(\"bananA\")"
   ]
  },
  {
   "cell_type": "code",
   "execution_count": 10,
   "metadata": {},
   "outputs": [],
   "source": [
    "def any_lowercase4(s):\n",
    "    \"\"\"This is the correct answer.\"\"\"\n",
    "    # We start whith a flag in False\n",
    "    flag = False\n",
    "    # We evaluate each character in the string.\n",
    "    for c in s:\n",
    "        # If the character is lower case the flag changes to True\n",
    "        # Once changed to True, it can't be changed to false, so the function detects any lowercase in the string.\n",
    "        flag = flag or c.islower()\n",
    "    return flag"
   ]
  },
  {
   "cell_type": "code",
   "execution_count": 11,
   "metadata": {},
   "outputs": [
    {
     "data": {
      "text/plain": [
       "True"
      ]
     },
     "execution_count": 11,
     "metadata": {},
     "output_type": "execute_result"
    }
   ],
   "source": [
    "any_lowercase4(\"BaNANa\")"
   ]
  },
  {
   "cell_type": "code",
   "execution_count": 12,
   "metadata": {},
   "outputs": [],
   "source": [
    "def any_lowercase5(s):\n",
    "    # This for loop returns False whenever it finds an uppercase.\n",
    "    # The function returns True only when every character is lowercase.\n",
    "    for c in s:\n",
    "        if not c.islower():\n",
    "            return False\n",
    "    return True"
   ]
  },
  {
   "cell_type": "code",
   "execution_count": 13,
   "metadata": {},
   "outputs": [
    {
     "data": {
      "text/plain": [
       "False"
      ]
     },
     "execution_count": 13,
     "metadata": {},
     "output_type": "execute_result"
    }
   ],
   "source": [
    "any_lowercase5(\"banAna\")"
   ]
  },
  {
   "cell_type": "markdown",
   "metadata": {},
   "source": [
    "**Exercise 8.5** A Caesar cypher is a weak form of encryptation that involves \"rotating\" each letter by a fixed number of places. To rotate a letter means to shift it through the alphabet, wrapping around to the beginning if necesary, so 'A' rotated by 3 is 'D' and 'Z' rotated by 1 is 'A'.\n",
    "<br>\n",
    "To rotate a word, rotate each letter by the same amountFor example, \"cheer\" rotated by 7 is \"jolly\" and \"melon\" rotated by -10 is \"cubed\". In the movie 2001: A Space Odyssey, the ship computer is called HAL, which is IBM rotated by -1.\n",
    "<br>\n",
    "Write a function called rotate_word that takes a string and an integer as parameters an returns a new string that contains the letters from the original string rotated by the given amount.\n",
    "<br>\n",
    "You might want to use the built-in function ord, which converts a character to a numeric code, and chr, which converts numeric codes to characters. Letters of the alphabet are encoded in alphabeticar order."
   ]
  },
  {
   "cell_type": "code",
   "execution_count": 14,
   "metadata": {},
   "outputs": [],
   "source": [
    "def rotate_word(x, n):\n",
    "    # First we create lists to manipulate our \n",
    "    char = []\n",
    "    numcode = []\n",
    "    encry = []\n",
    "    # The first loop adds each character individualy to de char list.\n",
    "    for letter in x:\n",
    "        char.append(letter)\n",
    "    # Now we get the code for each character, add the rotation an add it to the numcode list.    \n",
    "    for ch in char:\n",
    "        numcode.append(ord(ch)+n)\n",
    "    # In the last list we add the new character\n",
    "    for code in numcode:\n",
    "        encry.append(chr(code))\n",
    "    # Finnaly we create the encrypted word by joining all elements in the encry list.\n",
    "    new_word = \"\".join(encry)\n",
    "    return new_word\n",
    "    "
   ]
  },
  {
   "cell_type": "code",
   "execution_count": 15,
   "metadata": {},
   "outputs": [
    {
     "data": {
      "text/plain": [
       "'NMZMZM'"
      ]
     },
     "execution_count": 15,
     "metadata": {},
     "output_type": "execute_result"
    }
   ],
   "source": [
    "rotate_word(\"banana\", -20)"
   ]
  }
 ],
 "metadata": {
  "kernelspec": {
   "display_name": "Python 3",
   "language": "python",
   "name": "python3"
  },
  "language_info": {
   "codemirror_mode": {
    "name": "ipython",
    "version": 3
   },
   "file_extension": ".py",
   "mimetype": "text/x-python",
   "name": "python",
   "nbconvert_exporter": "python",
   "pygments_lexer": "ipython3",
   "version": "3.8.5"
  }
 },
 "nbformat": 4,
 "nbformat_minor": 4
}

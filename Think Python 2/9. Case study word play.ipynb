{
 "cells": [
  {
   "cell_type": "markdown",
   "metadata": {},
   "source": [
    "## Chapter 9\n",
    "# Case study: word play"
   ]
  },
  {
   "cell_type": "markdown",
   "metadata": {},
   "source": [
    "**Note:** The file 'words.txt' can  be fund [here.](https://github.com/AllenDowney/ThinkPython2/blob/master/code/words.txt)"
   ]
  },
  {
   "cell_type": "markdown",
   "metadata": {},
   "source": [
    "**Exercise 9.1.** Write a program that reads words.txt and prints only the words with more than 20 characters (not counting whitespace)."
   ]
  },
  {
   "cell_type": "code",
   "execution_count": 1,
   "metadata": {},
   "outputs": [
    {
     "name": "stdout",
     "output_type": "stream",
     "text": [
      "counterdemonstration\n",
      "counterdemonstrations\n",
      "counterdemonstrators\n",
      "hyperaggressivenesses\n",
      "hypersensitivenesses\n",
      "microminiaturization\n",
      "microminiaturizations\n",
      "representativenesses\n"
     ]
    }
   ],
   "source": [
    "fin = open(\"words.txt\")\n",
    "for line in fin:\n",
    "    word = line.strip()\n",
    "    if len(word) < 20:\n",
    "        continue\n",
    "    else:\n",
    "        print(word)"
   ]
  },
  {
   "cell_type": "markdown",
   "metadata": {},
   "source": [
    "**Exercise 9.2.** In 1939 Ernest Vincent Wright published a 50000 word novel called Gadsby that does not contain the letter \"e\". Since \"e\" is the most common letter in English, that's not easy to do.\n",
    "<br>\n",
    "Write a function called has_no_e that returns True if the given word doesn't have the letter \"e\" in it.\n",
    "<br>\n",
    "Write a program that reads words.txt and prints only the words that have no \"e\". compute the percentage of words in the list that have no \"e\"."
   ]
  },
  {
   "cell_type": "code",
   "execution_count": 2,
   "metadata": {},
   "outputs": [],
   "source": [
    "def has_no_e(x):\n",
    "    if \"e\" not in x:\n",
    "        return True\n",
    "    else:\n",
    "        return False"
   ]
  },
  {
   "cell_type": "code",
   "execution_count": 3,
   "metadata": {},
   "outputs": [
    {
     "data": {
      "text/plain": [
       "True"
      ]
     },
     "execution_count": 3,
     "metadata": {},
     "output_type": "execute_result"
    }
   ],
   "source": [
    "has_no_e(\"handcuff\")"
   ]
  },
  {
   "cell_type": "code",
   "execution_count": 4,
   "metadata": {},
   "outputs": [
    {
     "data": {
      "text/plain": [
       "False"
      ]
     },
     "execution_count": 4,
     "metadata": {},
     "output_type": "execute_result"
    }
   ],
   "source": [
    "has_no_e(\"demostration\")"
   ]
  },
  {
   "cell_type": "code",
   "execution_count": 5,
   "metadata": {},
   "outputs": [
    {
     "name": "stdout",
     "output_type": "stream",
     "text": [
      "The list contains 113783 words.\n",
      "There are 37621 words without an 'e'.\n",
      "The letters wtho no 'e' in them represent the 33.063814453828776% of all the words in the list.\n"
     ]
    }
   ],
   "source": [
    "fin = open(\"words.txt\")\n",
    "allwords = []\n",
    "noe =[]\n",
    "for line in fin:\n",
    "    word = line.strip()\n",
    "    allwords.append(word)\n",
    "    if \"e\" in word:\n",
    "        continue\n",
    "    else:\n",
    "        noe.append(word)\n",
    "len1 = len(allwords)\n",
    "len2 = len(noe)\n",
    "percentage = 100*len2/len1\n",
    "print(\"The list contains \" + str(len1) + \" words.\")\n",
    "print(\"There are \" + str(len2) + \" words without an 'e'.\")\n",
    "print(\"The letters wtho no 'e' in them represent the \" + str(percentage)+\"% of all the words in the list.\")\n"
   ]
  },
  {
   "cell_type": "markdown",
   "metadata": {},
   "source": [
    "**9.3.** Write a function named avoids that takes a word and a string of forbidden letters, and returns True if the word doesn't use any of the forbidden letters.\n",
    "<br>\n",
    "Write a program that prompts the user to enter a string of forbidden letters and then prints the number of words that don't contain any of them. Can you find a combination of 5 forbidden letters that excludes the smallest nuber of words?"
   ]
  },
  {
   "cell_type": "code",
   "execution_count": 6,
   "metadata": {},
   "outputs": [],
   "source": [
    "def avoids(word, letters):\n",
    "    fletters = letters\n",
    "    for letter in fletters:\n",
    "        if letter in word:\n",
    "            return False\n",
    "    print(\"Your word avoids the forbbiden letters.\")"
   ]
  },
  {
   "cell_type": "code",
   "execution_count": 7,
   "metadata": {},
   "outputs": [
    {
     "name": "stdout",
     "output_type": "stream",
     "text": [
      "Your word avoids the forbbiden letters.\n"
     ]
    }
   ],
   "source": [
    "avoids(\"letters\", \"a\")"
   ]
  },
  {
   "cell_type": "code",
   "execution_count": 8,
   "metadata": {},
   "outputs": [
    {
     "data": {
      "text/plain": [
       "False"
      ]
     },
     "execution_count": 8,
     "metadata": {},
     "output_type": "execute_result"
    }
   ],
   "source": [
    "avoids(\"letters\",\"abce\")"
   ]
  },
  {
   "cell_type": "code",
   "execution_count": 9,
   "metadata": {},
   "outputs": [
    {
     "name": "stdout",
     "output_type": "stream",
     "text": [
      "Enter a string with the forbidden letters: asdf\n",
      "The number of words without the forbidden letters are: 291828\n"
     ]
    }
   ],
   "source": [
    "fin = open(\"words.txt\")\n",
    "allwords = []\n",
    "count = 0\n",
    "for line in fin:\n",
    "    allwords.append(line.strip())\n",
    "fletters = input(\"Enter a string with the forbidden letters: \")\n",
    "\n",
    "for word in allwords:\n",
    "    for letter in fletters:\n",
    "        if letter not in word:\n",
    "            count = count + 1\n",
    "print(\"The number of words without the forbidden letters are: \" + str(count))\n"
   ]
  },
  {
   "cell_type": "markdown",
   "metadata": {},
   "source": [
    "**Exercise 9.4** Write a function named uses_only that takes a word and a string of letters, and returns True if the word contains only  letters in the list. Can you make a sentence using only letters acefhlo? Other than \"Hoe alfalfa\"?"
   ]
  },
  {
   "cell_type": "code",
   "execution_count": 10,
   "metadata": {},
   "outputs": [],
   "source": [
    "def uses_only(word, string):\n",
    "    for letter in word:\n",
    "        if letter not in string:\n",
    "            \n",
    "            return False\n",
    "    \n",
    "    return True"
   ]
  },
  {
   "cell_type": "code",
   "execution_count": 11,
   "metadata": {},
   "outputs": [
    {
     "data": {
      "text/plain": [
       "True"
      ]
     },
     "execution_count": 11,
     "metadata": {},
     "output_type": "execute_result"
    }
   ],
   "source": [
    "uses_only(\"alfalfa\", \"alf\")"
   ]
  },
  {
   "cell_type": "code",
   "execution_count": 12,
   "metadata": {},
   "outputs": [
    {
     "data": {
      "text/plain": [
       "False"
      ]
     },
     "execution_count": 12,
     "metadata": {},
     "output_type": "execute_result"
    }
   ],
   "source": [
    "uses_only(\"alfalfa\", \"al\")"
   ]
  },
  {
   "cell_type": "code",
   "execution_count": 13,
   "metadata": {},
   "outputs": [
    {
     "name": "stdout",
     "output_type": "stream",
     "text": [
      "['aa', 'aah', 'aal', 'ace', 'ache', 'achoo', 'ae', 'aff', 'ah', 'aha', 'ahchoo', 'ala', 'alae', 'alcohol', 'ale', 'alec', 'alee', 'alef', 'alfa', 'alfalfa', 'all', 'allele', 'allheal', 'aloe', 'aloha', 'aloof', 'cacao', 'cache', 'caeca', 'caecal', 'cafe', 'caleche', 'calf', 'call', 'calla', 'ceca', 'cecal', 'cee', 'cell', 'cella', 'cellae', 'cello', 'chafe', 'chaff', 'chalah', 'chaleh', 'challah', 'chef', 'chela', 'chelae', 'cholla', 'clach', 'clef', 'cloaca', 'cloacae', 'cloacal', 'cloche', 'coach', 'coal', 'coala', 'coalhole', 'coca', 'coccal', 'cochlea', 'cochleae', 'coco', 'cocoa', 'coff', 'coffee', 'coffle', 'coho', 'col', 'cola', 'cole', 'coo', 'cooch', 'cooee', 'coof', 'cool', 'each', 'eche', 'echo', 'ecole', 'eel', 'ef', 'eff', 'efface', 'eh', 'el', 'elf', 'ell', 'fa', 'face', 'faecal', 'fall', 'fallal', 'falloff', 'feal', 'fecal', 'fee', 'feel', 'fell', 'fella', 'fellah', 'felloe', 'feoff', 'feoffee', 'flea', 'fleche', 'flee', 'fleece', 'fleech', 'floc', 'floe', 'foal', 'focal', 'foe', 'foh', 'fool', 'ha', 'haaf', 'hae', 'hah', 'halala', 'halalah', 'hale', 'half', 'hall', 'hallah', 'hallel', 'hallo', 'halloa', 'halloo', 'halo', 'haole', 'he', 'heal', 'heel', 'hell', 'hellhole', 'hello', 'ho', 'hoe', 'hole', 'holla', 'hollo', 'holloa', 'holloo', 'hooch', 'hoof', 'la', 'lac', 'lace', 'lall', 'lea', 'leach', 'leaf', 'leal', 'lech', 'lee', 'leech', 'lo', 'loach', 'loaf', 'loca', 'local', 'locale', 'loch', 'loco', 'locofoco', 'loll', 'loo', 'loof', 'loofa', 'loofah', 'oaf', 'oca', 'oe', 'of', 'off', 'offal', 'oh', 'oho', 'ole', 'olea', 'oleo', 'olla', 'ooh']\n"
     ]
    }
   ],
   "source": [
    "fin = open(\"words.txt\")\n",
    "a = []\n",
    "for line in fin:\n",
    "    word = line.strip()\n",
    "    if uses_only(word, \"acefhlo\") == True:\n",
    "        a.append(word)        \n",
    "print(a)"
   ]
  },
  {
   "cell_type": "markdown",
   "metadata": {},
   "source": [
    "**Exercise 9.5.** Write a function named uses_all that takes a word and a string of required letters, and that returns True if the word uses all the required letters at least once. How many words are there that use all the vowels awiou? How about aeiouy?"
   ]
  },
  {
   "cell_type": "code",
   "execution_count": 14,
   "metadata": {},
   "outputs": [],
   "source": [
    "def uses_all(word, string):\n",
    "    for letter in string:\n",
    "        if letter not in word:\n",
    "            return False\n",
    "    return True\n",
    "    "
   ]
  },
  {
   "cell_type": "code",
   "execution_count": 15,
   "metadata": {},
   "outputs": [
    {
     "data": {
      "text/plain": [
       "True"
      ]
     },
     "execution_count": 15,
     "metadata": {},
     "output_type": "execute_result"
    }
   ],
   "source": [
    "uses_all(\"alfalfa\", \"alf\")"
   ]
  },
  {
   "cell_type": "code",
   "execution_count": 16,
   "metadata": {},
   "outputs": [
    {
     "data": {
      "text/plain": [
       "False"
      ]
     },
     "execution_count": 16,
     "metadata": {},
     "output_type": "execute_result"
    }
   ],
   "source": [
    "uses_all(\"alfalfa\", \"afi\")"
   ]
  },
  {
   "cell_type": "code",
   "execution_count": 17,
   "metadata": {},
   "outputs": [
    {
     "name": "stdout",
     "output_type": "stream",
     "text": [
      "There are 598 words that use all the vowels.\n",
      "['aboideau', 'aboideaus', 'aboideaux', 'aboiteau', 'aboiteaus', 'aboiteaux', 'abstemious', 'abstemiously', 'accentuation', 'accentuations', 'accountabilities', 'accountancies', 'accoutering', 'adulteration', 'adulterations', 'adventitious', 'adventitiously', 'adventitiousness', 'adventitiousnesses', 'aerobium', 'aeronautic', 'aeronautical', 'aeronautically', 'aeronautics', 'agouties', 'ambidextrous', 'ambidextrously', 'antibourgeois', 'anticonsumer', 'antievolution', 'antievolutionary', 'antihomosexual', 'antireligious', 'antirevolutionary', 'antisubversion', 'antituberculosis', 'antiunemployment', 'armouries', 'arsenious', 'assiduousness', 'assiduousnesses', 'atrociousness', 'atrociousnesses', 'attenuation', 'attenuations', 'auctioned', 'auctioneer', 'auctioneers', 'auditioned', 'auditories', 'augmentation', 'augmentations', 'aureoling', 'authentication', 'authentications', 'authoritative', 'authoritatively', 'authorities', 'authorize', 'authorized', 'authorizes', 'autobiographer', 'autobiographers', 'autobiographies', 'autocracies', 'autogamies', 'autogenies', 'automobile', 'automobiles', 'automotive', 'autonomies', 'autopsied', 'autopsies', 'autotomies', 'autotypies', 'avoidupoises', 'beautification', 'beautifications', 'belabouring', 'bivouacked', 'boundaries', 'buoyancies', 'businesswoman', 'calamitousness', 'calamitousnesses', 'carnivorousness', 'carnivorousnesses', 'cauliflower', 'cauliflowers', 'cauterization', 'cauterizations', 'cautioned', 'cautiousness', 'cautiousnesses', 'chemotherapeutic', 'chemotherapeutical', 'chivalrousness', 'chivalrousnesses', 'coeducation', 'coeducational', 'coeducations', 'coequating', 'communicable', 'communicate', 'communicated', 'communicates', 'communicative', 'conceptualize', 'conceptualized', 'conceptualizes', 'conceptualizing', 'consequential', 'constabularies', 'continuance', 'continuances', 'contumacies', 'copulative', 'copulatives', 'countenancing', 'counteraccusation', 'counteraccusations', 'counteracting', 'counteraggression', 'counteraggressions', 'counterarguing', 'counterattacking', 'counterbalancing', 'countercampaign', 'countercampaigns', 'counterclaim', 'counterclaims', 'countercomplaint', 'countercomplaints', 'counterdemonstration', 'counterdemonstrations', 'counterguerrila', 'counterinflationary', 'countermanding', 'counterpropagation', 'counterpropagations', 'counterraid', 'counterraids', 'counterrallies', 'counterretaliation', 'counterretaliations', 'counterstrategies', 'demagogueries', 'denunciation', 'denunciations', 'deputation', 'deputations', 'desquamation', 'desquamations', 'devaluation', 'devaluations', 'dialogue', 'dialogued', 'dialogues', 'disadvantageous', 'discontinuance', 'discontinuances', 'discourage', 'discouraged', 'discouragement', 'discouragements', 'discourages', 'documentaries', 'documentation', 'documentations', 'edacious', 'education', 'educational', 'educations', 'efficacious', 'ejaculation', 'ejaculations', 'elucidation', 'elucidations', 'emasculatation', 'emasculatations', 'emulation', 'emulations', 'emulsification', 'emulsifications', 'enamouring', 'encouraging', 'enumeration', 'enumerations', 'enunciation', 'enunciations', 'equation', 'equations', 'equatorial', 'equivocal', 'equivocate', 'equivocated', 'equivocates', 'equivocating', 'equivocation', 'equivocations', 'eulogia', 'eulogiae', 'eulogias', 'euphoria', 'euphorias', 'evacuation', 'evacuations', 'evaluation', 'evaluations', 'evolutionary', 'excommunicate', 'excommunicated', 'excommunicates', 'excommunicating', 'excommunication', 'excommunications', 'exhaustion', 'exhaustions', 'exhumation', 'exhumations', 'expurgation', 'expurgations', 'extenuation', 'extenuations', 'extracommunity', 'extraconstitutional', 'exudation', 'exudations', 'facetious', 'facetiously', 'fastiduousness', 'fastiduousnesses', 'filamentous', 'fluoridate', 'fluoridated', 'fluoridates', 'fountained', 'fumatories', 'functionaries', 'gelatinous', 'genitourinary', 'graciousness', 'graciousnesses', 'gregarious', 'gregariously', 'gregariousness', 'gregariousnesses', 'gubernatorial', 'hallucinogen', 'hallucinogenic', 'hallucinogens', 'harmoniousness', 'harmoniousnesses', 'hippopotamuses', 'housecleaning', 'housecleanings', 'housemaid', 'housemaids', 'housewarming', 'housewarmings', 'hyperanxious', 'hypercautious', 'hyperfastidious', 'ignoramuses', 'importunate', 'incommensurate', 'incommunicable', 'inconsequential', 'inconsequentially', 'inconsumable', 'inoculate', 'inoculated', 'inoculates', 'insecuration', 'insecurations', 'insouciance', 'insouciances', 'instantaneous', 'instantaneously', 'institutionalize', 'instrumentation', 'instrumentations', 'insubordinate', 'insupportable', 'insurmounable', 'intercommunal', 'interinstitutional', 'intermolecular', 'intermountain', 'interpopulation', 'intravenous', 'intravenously', 'jalousie', 'jalousies', 'jealousies', 'lasciviousness', 'lasciviousnesses', 'leukopenia', 'liquefaction', 'liquefactions', 'loquacities', 'magnanimousness', 'magnanimousnesses', 'malfunctioned', 'malnourished', 'mendacious', 'mendaciously', 'menstruation', 'menstruations', 'miaoued', 'microminiature', 'microminiatures', 'microminiaturized', 'miscellaneous', 'miscellaneously', 'miscellaneousness', 'miscellaneousnesses', 'modularities', 'modularized', 'mortuaries', 'mountaineer', 'mountaineered', 'mountaineering', 'mountaineers', 'multidenominational', 'multidimensional', 'multidirectional', 'multimillionaire', 'multimodalities', 'nefarious', 'nefariouses', 'nefariously', 'neurological', 'neurologically', 'neuropathies', 'neurotically', 'neutralization', 'neutralizations', 'nitrosurea', 'noncommunicable', 'noncumulative', 'noneducational', 'nonindustrialized', 'nonintellectual', 'obduracies', 'obituaries', 'occupancies', 'ossuaries', 'ostentatious', 'ostentatiously', 'outbeaming', 'outbleating', 'outcapering', 'outcaviled', 'outcavilled', 'outcheating', 'outdistance', 'outdistanced', 'outdistances', 'outdreaming', 'outeating', 'outfeasting', 'outgained', 'outhearing', 'outlawries', 'outleaping', 'outlearning', 'outpainted', 'outpatient', 'outpatients', 'outraise', 'outraised', 'outraises', 'outreaching', 'outreading', 'outrivaled', 'outrivalled', 'outsailed', 'outspeaking', 'outswearing', 'outwaited', 'outwearied', 'outwearies', 'outwearing', 'outwearying', 'overambitious', 'overanxious', 'overarousing', 'overcautious', 'overeducating', 'overenthusiastic', 'overexhausting', 'overfatigue', 'overfatigued', 'overfatigues', 'overfatiguing', 'overhauling', 'overparticular', 'overqualified', 'overregulating', 'overregulation', 'overregulations', 'oversaturating', 'overstimulate', 'overstimulated', 'overstimulates', 'overstimulating', 'overvaluing', 'pandemonium', 'pandemoniums', 'pasteurization', 'pasteurizations', 'peculatation', 'peculatations', 'perambulation', 'perambulations', 'perpetuation', 'perpetuations', 'perspicacious', 'persuasion', 'persuasions', 'pertinacious', 'perturbation', 'perturbations', 'plutocracies', 'pneumonia', 'popularities', 'popularize', 'popularized', 'popularizes', 'portraiture', 'portraitures', 'postrevolutionary', 'preauthorize', 'preauthorized', 'preauthorizes', 'preauthorizing', 'precarious', 'precariously', 'precariousness', 'precariousnesses', 'precaution', 'precautionary', 'precautions', 'preimmunization', 'preimmunizations', 'preinoculate', 'preinoculated', 'preinoculates', 'preinoculating', 'preinoculation', 'preoccupation', 'preoccupations', 'prepublication', 'prerevolutionary', 'pressurization', 'pressurizations', 'proteinuria', 'purgatories', 'putrefaction', 'putrefactions', 'questionable', 'questionnaire', 'questionnaires', 'questionniare', 'questionniares', 'radionuclide', 'radionuclides', 'rapaciousness', 'rapaciousnesses', 'rearousing', 'recapitulation', 'recapitulations', 'recirculation', 'recirculations', 'recuperation', 'recuperations', 'reevaluation', 'reevaluations', 'reformulating', 'refutation', 'refutations', 'regulation', 'regulations', 'regurgitation', 'regurgitations', 'reinoculate', 'reinoculated', 'reinoculates', 'reinoculating', 'rejuvenation', 'rejuvenations', 'remuneration', 'remunerations', 'renunciation', 'renunciations', 'repopulating', 'repudiation', 'repudiations', 'repudiator', 'repudiators', 'reputation', 'reputations', 'resuscitation', 'resuscitations', 'resuscitator', 'resuscitators', 'revolutionaries', 'revolutionary', 'sacrilegious', 'sacrilegiously', 'sautoire', 'sautoires', 'savourier', 'savouries', 'savouriest', 'scabiouses', 'sequoia', 'sequoias', 'simultaneous', 'simultaneously', 'simultaneousness', 'simultaneousnesses', 'somersaulting', 'spaciousness', 'spaciousnesses', 'speculation', 'speculations', 'stupefaction', 'stupefactions', 'subatmospheric', 'subcategories', 'subequatorial', 'suboceanic', 'subordinate', 'subordinated', 'subordinates', 'subpoenaing', 'sudatories', 'superambitious', 'superpatriot', 'superpatriotic', 'superpatriotism', 'superpatriotisms', 'superpatriots', 'tambourine', 'tambourines', 'tenacious', 'tenaciously', 'thiourea', 'thioureas', 'ulceration', 'ulcerations', 'ultraviolet', 'unaccompanied', 'unauthorized', 'unavoidable', 'uncomplimentary', 'unconscionable', 'unconventional', 'unconventionally', 'uncooperative', 'uncoordinated', 'undemocratic', 'undomesticated', 'unemotional', 'unequivocal', 'unequivocally', 'unforgivable', 'unidirectional', 'unintentional', 'unintentionally', 'unmotivated', 'unnojectionable', 'unnoticeable', 'unobtainable', 'unorganized', 'unpopularities', 'unprofessional', 'unprofitable', 'unquestionable', 'unquestionably', 'unreasoning', 'unsophisticated', 'veracious', 'vexatious', 'vicariousness', 'vicariousnesses', 'villianousness', 'villianousnesses', 'vituperation', 'vituperations', 'vivaciousness', 'vivaciousnesses', 'vocabularies', 'voraciousness', 'voraciousnesses', 'warehousing']\n"
     ]
    }
   ],
   "source": [
    "fin= open(\"words.txt\")\n",
    "count = 0\n",
    "all_vowels = []\n",
    "for line in fin:\n",
    "    word = line.strip()\n",
    "    if uses_all(word, \"aeiou\") == True:\n",
    "        all_vowels.append(word)\n",
    "        count = count+1\n",
    "print(\"There are \" + str(count) + \" words that use all the vowels.\")\n",
    "print(all_vowels)"
   ]
  },
  {
   "cell_type": "code",
   "execution_count": 18,
   "metadata": {},
   "outputs": [
    {
     "name": "stdout",
     "output_type": "stream",
     "text": [
      "There are 42 words that use all the vowels and y.\n",
      "['abstemiously', 'adventitiously', 'aeronautically', 'ambidextrously', 'antievolutionary', 'antirevolutionary', 'antiunemployment', 'authoritatively', 'autotypies', 'buoyancies', 'counterinflationary', 'evolutionary', 'extracommunity', 'facetiously', 'genitourinary', 'gregariously', 'hyperanxious', 'hypercautious', 'hyperfastidious', 'inconsequentially', 'instantaneously', 'intravenously', 'mendaciously', 'miscellaneously', 'nefariously', 'neurologically', 'neurotically', 'ostentatiously', 'outwearying', 'postrevolutionary', 'precariously', 'precautionary', 'prerevolutionary', 'revolutionary', 'sacrilegiously', 'simultaneously', 'tenaciously', 'uncomplimentary', 'unconventionally', 'unequivocally', 'unintentionally', 'unquestionably']\n"
     ]
    }
   ],
   "source": [
    "fin= open(\"words.txt\")\n",
    "count = 0\n",
    "all_vowelsy = []\n",
    "for line in fin:\n",
    "    word = line.strip()\n",
    "    if uses_all(word, \"aeiouy\") == True:\n",
    "        all_vowelsy.append(word)\n",
    "        count = count+1\n",
    "print(\"There are \" + str(count) + \" words that use all the vowels and y.\")\n",
    "print(all_vowelsy)"
   ]
  },
  {
   "cell_type": "markdown",
   "metadata": {},
   "source": [
    "**Exercise 9.6.** Write a functioin called is_abecedarian that returns True if the letters in the word appear in alphabetical order (double letters are ok). How many abecedarioan words are there?"
   ]
  },
  {
   "cell_type": "code",
   "execution_count": 19,
   "metadata": {},
   "outputs": [],
   "source": [
    "def is_abecedarian(word):\n",
    "    x = 0\n",
    "    for letter in word:\n",
    "        y = ord(letter)\n",
    "        if y < x:\n",
    "            return False\n",
    "        x = y\n",
    "    return True\n",
    "            "
   ]
  },
  {
   "cell_type": "code",
   "execution_count": 20,
   "metadata": {},
   "outputs": [
    {
     "name": "stdout",
     "output_type": "stream",
     "text": [
      "There are 596 abecedarian words.\n",
      "['aa', 'aah', 'aahs', 'aal', 'aals', 'aas', 'abbe', 'abbes', 'abbess', 'abbey', 'abbot', 'abet', 'abhor', 'abhors', 'ably', 'abo', 'abort', 'abos', 'abuzz', 'aby', 'accent', 'accept', 'access', 'accost', 'ace', 'acers', 'aces', 'achoo', 'achy', 'act', 'ad', 'add', 'adder', 'adders', 'adds', 'adeem', 'adeems', 'adept', 'adios', 'adit', 'ado', 'adopt', 'ados', 'ads', 'adz', 'ae', 'aegis', 'aery', 'aff', 'affix', 'afflux', 'afoot', 'aft', 'agin', 'agio', 'agios', 'agist', 'aglow', 'agly', 'ago', 'ah', 'ahoy', 'ai', 'ail', 'ails', 'aim', 'aims', 'ain', 'ains', 'air', 'airs', 'airt', 'airy', 'ais', 'ait', 'all', 'allot', 'allow', 'alloy', 'alls', 'ally', 'almost', 'alms', 'alow', 'alp', 'alps', 'alt', 'am', 'ammo', 'ammos', 'amort', 'amp', 'amps', 'amu', 'an', 'annoy', 'ant', 'any', 'apt', 'ar', 'ars', 'art', 'arty', 'as', 'ass', 'at', 'aw', 'ay', 'be', 'bee', 'beef', 'beefily', 'beefs', 'beefy', 'been', 'beep', 'beeps', 'beer', 'beers', 'beery', 'bees', 'beet', 'befit', 'beg', 'begin', 'begins', 'begirt', 'begot', 'begs', 'beknot', 'bel', 'bell', 'bellow', 'bells', 'belly', 'below', 'bels', 'belt', 'ben', 'benny', 'bens', 'bent', 'berry', 'best', 'bet', 'bevy', 'bey', 'bhoot', 'bi', 'bijou', 'bijoux', 'bill', 'billow', 'billowy', 'bills', 'billy', 'bin', 'bins', 'bint', 'bio', 'biopsy', 'bios', 'birr', 'birrs', 'bis', 'bit', 'bitt', 'bitty', 'bloop', 'bloops', 'blot', 'blotty', 'blow', 'blowy', 'bo', 'boo', 'boor', 'boors', 'boos', 'boost', 'boot', 'booty', 'bop', 'bops', 'bort', 'borty', 'bortz', 'bos', 'boss', 'bossy', 'bot', 'bott', 'bow', 'box', 'boxy', 'boy', 'buy', 'buzz', 'by', 'cee', 'cees', 'ceil', 'ceils', 'cell', 'cello', 'cellos', 'cells', 'celt', 'cent', 'cess', 'chi', 'chill', 'chills', 'chilly', 'chimp', 'chimps', 'chin', 'chino', 'chinos', 'chins', 'chintz', 'chip', 'chippy', 'chips', 'chirr', 'chirrs', 'chis', 'chit', 'chitty', 'chivvy', 'chivy', 'choosy', 'chop', 'choppy', 'chops', 'chott', 'chow', 'cist', 'city', 'civvy', 'cloot', 'clop', 'clops', 'clot', 'clotty', 'cloy', 'coo', 'coop', 'coops', 'coopt', 'coos', 'coot', 'cop', 'cops', 'copy', 'cos', 'coss', 'cost', 'cosy', 'cot', 'cow', 'cowy', 'cox', 'coy', 'coz', 'crux', 'cry', 'de', 'dee', 'deem', 'deems', 'deep', 'deeps', 'deer', 'deers', 'dees', 'defi', 'defis', 'deft', 'defy', 'dehort', 'dei', 'deil', 'deils', 'deist', 'deity', 'del', 'dell', 'dells', 'delly', 'dels', 'demo', 'demos', 'demy', 'den', 'dens', 'dent', 'deny', 'derry', 'des', 'dev', 'dew', 'dewy', 'dex', 'dey', 'dhow', 'dill', 'dills', 'dilly', 'dim', 'dims', 'din', 'dins', 'dint', 'dip', 'dippy', 'dips', 'dipt', 'dirt', 'dirty', 'dit', 'ditty', 'divvy', 'do', 'door', 'doors', 'dopy', 'dor', 'dorr', 'dorrs', 'dors', 'dorty', 'dory', 'dos', 'doss', 'dost', 'dot', 'dotty', 'doty', 'dow', 'doxy', 'dry', 'eel', 'eels', 'eely', 'eery', 'ef', 'eff', 'efflux', 'effort', 'effs', 'efs', 'eft', 'egg', 'eggs', 'egis', 'ego', 'egos', 'eh', 'el', 'ell', 'ells', 'elm', 'elms', 'elmy', 'els', 'em', 'empty', 'ems', 'emu', 'en', 'enow', 'ens', 'envy', 'er', 'err', 'errs', 'ers', 'erst', 'es', 'ess', 'et', 'ex', 'fil', 'fill', 'fills', 'filly', 'film', 'films', 'filmy', 'fils', 'fin', 'finny', 'fins', 'fir', 'firry', 'firs', 'first', 'fist', 'fisty', 'fit', 'fix', 'fiz', 'fizz', 'floor', 'floors', 'floosy', 'flop', 'floppy', 'flops', 'floss', 'flossy', 'flow', 'flu', 'flux', 'fly', 'foot', 'footy', 'fop', 'fops', 'for', 'fort', 'forty', 'foss', 'fou', 'fox', 'foxy', 'foy', 'fry', 'fuzz', 'ghi', 'ghis', 'ghost', 'ghosty', 'gill', 'gills', 'gilly', 'gilt', 'gimp', 'gimps', 'gimpy', 'gin', 'ginny', 'gins', 'gip', 'gips', 'gipsy', 'girt', 'gist', 'git', 'glop', 'glops', 'glory', 'gloss', 'glossy', 'glost', 'glow', 'gnu', 'go', 'goo', 'goop', 'goops', 'goos', 'goosy', 'gor', 'gorsy', 'gory', 'got', 'gox', 'goy', 'guy', 'hi', 'hill', 'hillo', 'hillos', 'hills', 'hilly', 'hilt', 'him', 'hin', 'hinny', 'hins', 'hint', 'hip', 'hippy', 'hips', 'his', 'hiss', 'hist', 'hit', 'ho', 'hoop', 'hoops', 'hoot', 'hooty', 'hop', 'hops', 'horst', 'horsy', 'host', 'hot', 'how', 'hoy', 'ill', 'ills', 'illy', 'immy', 'imp', 'imps', 'in', 'inn', 'inns', 'ins', 'is', 'it', 'ivy', 'jo', 'joss', 'jot', 'jotty', 'jow', 'joy', 'knop', 'knops', 'knot', 'knotty', 'know', 'kop', 'kops', 'kor', 'kors', 'kos', 'koss', 'lo', 'loo', 'loop', 'loops', 'loopy', 'loos', 'loot', 'lop', 'loppy', 'lops', 'lorry', 'lory', 'loss', 'lossy', 'lost', 'lot', 'low', 'lox', 'lux', 'moo', 'moor', 'moors', 'moory', 'moos', 'moot', 'mop', 'mops', 'mor', 'mors', 'mort', 'moss', 'mossy', 'most', 'mot', 'mott', 'mow', 'mu', 'my', 'no', 'noo', 'nor', 'nos', 'nosy', 'not', 'now', 'nu', 'oops', 'oot', 'op', 'ops', 'opt', 'or', 'ors', 'ort', 'os', 'ow', 'ox', 'oxy', 'oy', 'pry', 'psst', 'sty', 'tux']\n"
     ]
    }
   ],
   "source": [
    "fin = open(\"words.txt\")\n",
    "count = 0\n",
    "abc = []\n",
    "for line in fin:\n",
    "    word = line.strip()\n",
    "    if is_abecedarian(word) == False:\n",
    "        continue\n",
    "    abc.append(word)\n",
    "    count = count + 1\n",
    "    \n",
    "print(\"There are \" + str(count) + \" abecedarian words.\")\n",
    "print(abc)"
   ]
  },
  {
   "cell_type": "markdown",
   "metadata": {},
   "source": [
    "**Exercise 9.7.** Give me a word with three consecutive double letters. I’ll give you a couple of words\n",
    "that almost qualify, but don’t. For example, the word committee, c-o-m-m-i-t-t-e-e. It\n",
    "would be great except for the ‘i’ that sneaks in there. Or Mississippi: M-i-s-s-i-s-s-i-\n",
    "p-p-i. If you could take out those i’s it would work. But there is a word that has three\n",
    "consecutive pairs of letters and to the best of my knowledge this may be the only word.\n",
    "Of course there are probably 500 more but I can only think of one. What is the word?\n",
    "<br>\n",
    "Write a program to find it."
   ]
  },
  {
   "cell_type": "code",
   "execution_count": 21,
   "metadata": {},
   "outputs": [],
   "source": [
    "# This code is from https://github.com/AllenDowney/ThinkPython2/blob/master/code/cartalk1.py\n",
    "\n",
    "def is_triple_double(word):\n",
    "    \"\"\"Tests if a word contains three consecutive double letters.\n",
    "    \n",
    "    word: string\n",
    "    returns: bool\n",
    "    \"\"\"\n",
    "    i = 0\n",
    "    count = 0\n",
    "    while i < len(word)-1:\n",
    "        if word[i] == word[i+1]:\n",
    "            count = count + 1\n",
    "            if count == 3:\n",
    "                return True\n",
    "            i = i + 2\n",
    "        else:\n",
    "            i = i + 1 - 2*count\n",
    "            count = 0\n",
    "    return False\n",
    "\n",
    "\n",
    "def find_triple_double():\n",
    "    \"\"\"Reads a word list and prints words with triple double letters.\"\"\"\n",
    "    fin = open('words.txt')\n",
    "    for line in fin:\n",
    "        word = line.strip()\n",
    "        if is_triple_double(word):\n",
    "            print(word)"
   ]
  },
  {
   "cell_type": "code",
   "execution_count": 22,
   "metadata": {},
   "outputs": [
    {
     "name": "stdout",
     "output_type": "stream",
     "text": [
      "bookkeeper\n",
      "bookkeepers\n",
      "bookkeeping\n",
      "bookkeepings\n"
     ]
    }
   ],
   "source": [
    "find_triple_double()"
   ]
  },
  {
   "cell_type": "markdown",
   "metadata": {},
   "source": [
    "**Exercise 9.8.** Here's another Car talk Puzzler:\n",
    "<br>\n",
    "“I was driving on the highway the other day and I happened to notice my odometer.\n",
    "Like most odometers, it shows six digits, in whole miles only. So, if my car had 300,000\n",
    "miles, for example, I’d see 3-0-0-0-0-0.\n",
    "“Now, what I saw that day was very interesting. I noticed that the last 4 digits were\n",
    "palindromic; that is, they read the same forward as backward. For example, 5-4-4-5 is a\n",
    "palindrome, so my odometer could have read 3-1-5-4-4-5.\n",
    "“One mile later, the last 5 numbers were palindromic. For example, it could have read\n",
    "3-6-5-4-5-6. One mile after that, the middle 4 out of 6 numbers were palindromic. And\n",
    "you ready for this? One mile later, all 6 were palindromic!\n",
    "“The question is, what was on the odometer when I first looked?”\n",
    "<br>\n",
    "<br>\n",
    "Write a Python program that test all the sis-digit numbers and print any numbers that satisfy these requirements."
   ]
  },
  {
   "cell_type": "code",
   "execution_count": 23,
   "metadata": {},
   "outputs": [
    {
     "name": "stdout",
     "output_type": "stream",
     "text": [
      "The following are the possible odometer readings:\n",
      "198888\n",
      "199999\n",
      "\n"
     ]
    }
   ],
   "source": [
    "#This code is from https://github.com/AllenDowney/ThinkPython2/blob/master/code/cartalk2.py\n",
    "\n",
    "#This module contains a code example related to\n",
    "#Think Python, 2nd Edition\n",
    "#by Allen Downey\n",
    "#http://thinkpython2.com\n",
    "#Copyright 2015 Allen Downey\n",
    "#License: http://creativecommons.org/licenses/by/4.0/\n",
    "\n",
    "\n",
    "from __future__ import print_function, division\n",
    "\n",
    "\n",
    "def has_palindrome(i, start, length):\n",
    "    \"\"\"Checks if the string representation of i has a palindrome.\n",
    "    i: integer\n",
    "    start: where in the string to start\n",
    "    length: length of the palindrome to check for\n",
    "    \"\"\"\n",
    "    s = str(i)[start:start+length]\n",
    "    return s[::-1] == s\n",
    "\n",
    "    \n",
    "def check(i):\n",
    "    \"\"\"Checks if the integer (i) has the desired properties.\n",
    "    i: int\n",
    "    \"\"\"\n",
    "    return (has_palindrome(i, 2, 4) and\n",
    "            has_palindrome(i+1, 1, 5) and\n",
    "            has_palindrome(i+2, 1, 4) and\n",
    "            has_palindrome(i+3, 0, 6))\n",
    "\n",
    "\n",
    "def check_all():\n",
    "    \"\"\"Enumerate the six-digit numbers and print any winners.\n",
    "    \"\"\"\n",
    "    i = 100000\n",
    "    while i <= 999996:\n",
    "        if check(i):\n",
    "            print(i)\n",
    "        i = i + 1\n",
    "\n",
    "\n",
    "print('The following are the possible odometer readings:')\n",
    "check_all()\n",
    "print()\n"
   ]
  },
  {
   "cell_type": "code",
   "execution_count": null,
   "metadata": {},
   "outputs": [],
   "source": []
  }
 ],
 "metadata": {
  "kernelspec": {
   "display_name": "Python 3",
   "language": "python",
   "name": "python3"
  },
  "language_info": {
   "codemirror_mode": {
    "name": "ipython",
    "version": 3
   },
   "file_extension": ".py",
   "mimetype": "text/x-python",
   "name": "python",
   "nbconvert_exporter": "python",
   "pygments_lexer": "ipython3",
   "version": "3.8.5"
  }
 },
 "nbformat": 4,
 "nbformat_minor": 4
}
